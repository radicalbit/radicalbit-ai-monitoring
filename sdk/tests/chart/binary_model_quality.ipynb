{
 "cells": [
  {
   "cell_type": "code",
   "execution_count": 1,
   "id": "49b432f0-1f5c-4a06-be16-57211818e1d2",
   "metadata": {},
   "outputs": [],
   "source": [
    "# Create the Client\n",
    "from radicalbit_platform_sdk.client import Client\n",
    "base_url = \"http://localhost:9000\"\n",
    "client = Client(base_url)\n",
    "model = client.get_model(id=\"e02f2aed-cd29-4703-8faf-2dcab9fc668e\")"
   ]
  },
  {
   "cell_type": "code",
   "execution_count": 2,
   "id": "6b003783-f258-4687-b689-7564a433d2c8",
   "metadata": {},
   "outputs": [
    {
     "name": "stdout",
     "output_type": "stream",
     "text": [
      "f1=0.8512557559815072 accuracy=0.8563333333333333 weighted_precision=0.8504885379797771 weighted_recall=0.8563333333333333 weighted_f_measure=0.8512557559815072 weighted_true_positive_rate=0.8563333333333333 weighted_false_positive_rate=0.3078430650916095 area_under_roc=0.9170999040203395 area_under_pr=0.7894282641864298 log_loss=2.4781894979586054 precision=0.7491638795986622 recall=0.6145404663923183 f_measure=0.6752072343632253 true_positive_rate=0.6145404663923183 false_positive_rate=0.06605019815059446 true_positive_count=448 false_positive_count=150 true_negative_count=2121 false_negative_count=281\n"
     ]
    }
   ],
   "source": [
    "ref = model.get_reference_datasets()[0]\n",
    "cur1 = model.get_current_datasets()[0]"
   ]
  },
  {
   "cell_type": "code",
   "execution_count": 3,
   "id": "695184d1-1d18-46a1-83dc-38dd1daf0559",
   "metadata": {},
   "outputs": [
    {
     "data": {
      "application/vnd.jupyter.widget-view+json": {
       "model_id": "01d1caf034994d3a9a23cf305a00b148",
       "version_major": 2,
       "version_minor": 0
      },
      "text/plain": [
       "VBox(children=(EChartsRawWidget(option={'tooltip': {'trigger': 'axis', 'crosshairs': True, 'axisPointer': {'ty…"
      ]
     },
     "execution_count": 3,
     "metadata": {},
     "output_type": "execute_result"
    }
   ],
   "source": [
    "from radicalbit_platform_sdk.charts import RadicalbitChart, RbitChartData\n",
    "\n",
    "RadicalbitChart().model_quality(data=RbitChartData(\n",
    "    model=model,\n",
    "    reference=ref,\n",
    "    current=cur1\n",
    "))"
   ]
  },
  {
   "cell_type": "code",
   "execution_count": 5,
   "id": "788cce87-af03-4ae5-aac0-de0ec6144846",
   "metadata": {},
   "outputs": [
    {
     "data": {
      "application/vnd.jupyter.widget-view+json": {
       "model_id": "d0f326b371bc49ec91b4e22e9269141b",
       "version_major": 2,
       "version_minor": 0
      },
      "text/plain": [
       "VBox(children=(EChartsRawWidget(option={'grid': {'left': 0, 'right': 20, 'bottom': 0, 'top': 40, 'containLabel…"
      ]
     },
     "execution_count": 5,
     "metadata": {},
     "output_type": "execute_result"
    }
   ],
   "source": [
    "from radicalbit_platform_sdk.charts import RadicalbitChart, RbitChartData\n",
    "\n",
    "RadicalbitChart().numerical_feature_chart(data=RbitChartData(\n",
    "    model=model,\n",
    "    reference=ref,\n",
    "    current=cur1\n",
    "))"
   ]
  },
  {
   "cell_type": "code",
   "execution_count": null,
   "id": "2f144eac-8eab-4f26-99a1-8099ea5ae509",
   "metadata": {},
   "outputs": [],
   "source": []
  }
 ],
 "metadata": {
  "kernelspec": {
   "display_name": "Python 3 (ipykernel)",
   "language": "python",
   "name": "python3"
  },
  "language_info": {
   "codemirror_mode": {
    "name": "ipython",
    "version": 3
   },
   "file_extension": ".py",
   "mimetype": "text/x-python",
   "name": "python",
   "nbconvert_exporter": "python",
   "pygments_lexer": "ipython3",
   "version": "3.11.9"
  }
 },
 "nbformat": 4,
 "nbformat_minor": 5
}
