{
 "cells": [
  {
   "cell_type": "code",
   "execution_count": 1,
   "id": "49b432f0-1f5c-4a06-be16-57211818e1d2",
   "metadata": {},
   "outputs": [],
   "source": [
    "# Create the Client\n",
    "from radicalbit_platform_sdk.client import Client\n",
    "base_url = \"http://localhost:9000\"\n",
    "client = Client(base_url)\n",
    "model = client.get_model(id=\"e02f2aed-cd29-4703-8faf-2dcab9fc668e\")"
   ]
  },
  {
   "cell_type": "code",
   "execution_count": 2,
   "id": "6b003783-f258-4687-b689-7564a433d2c8",
   "metadata": {},
   "outputs": [],
   "source": [
    "ref = model.get_reference_datasets()[0]\n",
    "cur1 = model.get_current_datasets()[0]"
   ]
  },
  {
   "cell_type": "code",
   "execution_count": 3,
   "id": "695184d1-1d18-46a1-83dc-38dd1daf0559",
   "metadata": {},
   "outputs": [
    {
     "data": {
      "application/vnd.jupyter.widget-view+json": {
       "model_id": "f0abbc9226bf4e33bc01b285b5be53ac",
       "version_major": 2,
       "version_minor": 0
      },
      "text/plain": [
       "VBox(children=(EChartsRawWidget(option={'tooltip': {'trigger': 'axis', 'crosshairs': True, 'axisPointer': {'ty…"
      ]
     },
     "execution_count": 3,
     "metadata": {},
     "output_type": "execute_result"
    }
   ],
   "source": [
    "from radicalbit_platform_sdk.charts import RadicalbitChart, RbitChartData\n",
    "\n",
    "RadicalbitChart().model_quality(data=RbitChartData(\n",
    "    model=model,\n",
    "    reference=ref,\n",
    "    current=cur1\n",
    "))"
   ]
  },
  {
   "cell_type": "code",
   "execution_count": null,
   "id": "2f144eac-8eab-4f26-99a1-8099ea5ae509",
   "metadata": {},
   "outputs": [],
   "source": []
  }
 ],
 "metadata": {
  "kernelspec": {
   "display_name": "Python 3 (ipykernel)",
   "language": "python",
   "name": "python3"
  },
  "language_info": {
   "codemirror_mode": {
    "name": "ipython",
    "version": 3
   },
   "file_extension": ".py",
   "mimetype": "text/x-python",
   "name": "python",
   "nbconvert_exporter": "python",
   "pygments_lexer": "ipython3",
   "version": "3.11.9"
  }
 },
 "nbformat": 4,
 "nbformat_minor": 5
}
