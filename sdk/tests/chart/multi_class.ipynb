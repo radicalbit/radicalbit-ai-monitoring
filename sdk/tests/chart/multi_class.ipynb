{
 "cells": [
  {
   "cell_type": "code",
   "execution_count": 2,
   "id": "9ded8395-69cd-4c5e-82dd-69e95d6b8182",
   "metadata": {},
   "outputs": [
    {
     "data": {
      "application/vnd.jupyter.widget-view+json": {
       "model_id": "f4bead6a05e448b4b5c7066ed7a7170c",
       "version_major": 2,
       "version_minor": 0
      },
      "text/plain": [
       "EChartsRawWidget(option={'grid': {'left': 0, 'right': 20, 'bottom': 0, 'top': 40, 'containLabel': True}, 'xAxi…"
      ]
     },
     "execution_count": 2,
     "metadata": {},
     "output_type": "execute_result"
    }
   ],
   "source": [
    "from radicalbit_platform_sdk.charts.multi_classification import MultiClassificationChart, MultiClassificationDistributionChartData\n",
    "\n",
    "MultiClassificationChart().distribution_chart(data=\n",
    "    MultiClassificationDistributionChartData(\n",
    "        title=\"ground_truth\",\n",
    "        x_axis_label= [\"0\",\"1\",\"2\"],\n",
    "        reference_data=[\n",
    "            { \"percentage\": 31.443298969072163, \"count\": 305, \"value\": 305 },\n",
    "            { \"percentage\": 31.85567010309278, \"count\": 309, \"value\": 309 },\n",
    "            { \"percentage\": 36.70103092783505, \"count\": 356, \"value\": 356 }\n",
    "        ]\n",
    "    )\n",
    ")"
   ]
  },
  {
   "cell_type": "code",
   "execution_count": 3,
   "id": "c1f952cc-af88-4479-9111-1b3d6a6cc705",
   "metadata": {},
   "outputs": [
    {
     "data": {
      "application/vnd.jupyter.widget-view+json": {
       "model_id": "f12688cf0f184fb9b90a575e7aaf7f11",
       "version_major": 2,
       "version_minor": 0
      },
      "text/plain": [
       "EChartsRawWidget(option={'grid': {'left': 0, 'right': 20, 'bottom': 0, 'top': 40, 'containLabel': True}, 'xAxi…"
      ]
     },
     "execution_count": 3,
     "metadata": {},
     "output_type": "execute_result"
    }
   ],
   "source": [
    "from radicalbit_platform_sdk.charts.multi_classification import MultiClassificationChart, MultiClassificationDistributionChartData\n",
    "\n",
    "MultiClassificationChart().distribution_chart(data=\n",
    "    MultiClassificationDistributionChartData(\n",
    "        title=\"ground_truth\",\n",
    "        x_axis_label= [\"0\",\"1\",\"2\"],\n",
    "        reference_data=[\n",
    "            { \"percentage\": 31.443298969072163, \"count\": 305, \"value\": 305 },\n",
    "            { \"percentage\": 31.85567010309278, \"count\": 309, \"value\": 309 },\n",
    "            { \"percentage\": 36.70103092783505, \"count\": 356, \"value\": 356 }\n",
    "        ],\n",
    "        current_data=[\n",
    "            { \"percentage\": 28.846153846153843, \"count\": 105, \"value\": 105 },\n",
    "            { \"percentage\": 33.51648351648351, \"count\": 122, \"value\": 122 },\n",
    "            { \"percentage\": 37.637362637362635, \"count\": 137, \"value\": 137 }\n",
    "        ]\n",
    "    )\n",
    ")"
   ]
  },
  {
   "cell_type": "code",
   "execution_count": 1,
   "id": "4064888b-7b71-4581-92db-cb3d142e3213",
   "metadata": {},
   "outputs": [
    {
     "name": "stdout",
     "output_type": "stream",
     "text": [
      "\u001b[1mRecall\n"
     ]
    },
    {
     "data": {
      "application/vnd.jupyter.widget-view+json": {
       "model_id": "9a134d6f8ed64140967ec49c84fab6da",
       "version_major": 2,
       "version_minor": 0
      },
      "text/plain": [
       "EChartsRawWidget(option={'yAxis': {'type': 'value', 'axisLabel': {'fontSize': 9, 'color': '#9b99a1'}, 'splitLi…"
      ]
     },
     "execution_count": 1,
     "metadata": {},
     "output_type": "execute_result"
    }
   ],
   "source": [
    "from radicalbit_platform_sdk.charts.multi_classification import MultiClassificationChart, MultiClassificationLinearChartData, MultiClassificationLinearData\n",
    "\n",
    "MultiClassificationChart().linear_chart(data=MultiClassificationLinearChartData(\n",
    "    title=\"Recall\",\n",
    "    reference_data=[\n",
    "        MultiClassificationLinearData(name='0',values=[ \n",
    "            [ \"2024-04-09 00:00:00\",\"1\" ],\n",
    "            [ \"2024-04-10 00:00:00\",\"0.974\" ],\n",
    "            [ \"2024-04-11 00:00:00\",\"0.95\" ],\n",
    "            [ \"2024-04-12 00:00:00\",\"1\" ]\n",
    "        ])\n",
    "    ],\n",
    "    current_data=[\n",
    "        MultiClassificationLinearData(name='0',values=[ \n",
    "            [ \"2024-04-09 00:00:00\",\"1\" ],\n",
    "            [ \"2024-04-10 00:00:00\",\"0.974\" ],\n",
    "            [ \"2024-04-11 00:00:00\",\"0.95\" ],\n",
    "            [ \"2024-04-12 00:00:00\",\"1\" ]\n",
    "        ])\n",
    "    ]                \n",
    "))"
   ]
  },
  {
   "cell_type": "code",
   "execution_count": null,
   "id": "87e59bfc-9a6d-4983-8274-37b01b115d0d",
   "metadata": {},
   "outputs": [],
   "source": []
  }
 ],
 "metadata": {
  "kernelspec": {
   "display_name": "Python 3 (ipykernel)",
   "language": "python",
   "name": "python3"
  },
  "language_info": {
   "codemirror_mode": {
    "name": "ipython",
    "version": 3
   },
   "file_extension": ".py",
   "mimetype": "text/x-python",
   "name": "python",
   "nbconvert_exporter": "python",
   "pygments_lexer": "ipython3",
   "version": "3.11.9"
  }
 },
 "nbformat": 4,
 "nbformat_minor": 5
}
