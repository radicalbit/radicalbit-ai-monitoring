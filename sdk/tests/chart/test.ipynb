{
 "cells": [
  {
   "cell_type": "code",
   "execution_count": 1,
   "id": "56782c8a-3a34-4484-a4da-3fb8f0521f80",
   "metadata": {},
   "outputs": [],
   "source": [
    "# Create the Client\n",
    "from radicalbit_platform_sdk.client import Client\n",
    "base_url = \"http://localhost:9000\"\n",
    "client = Client(base_url)\n",
    "model = client.get_model(id=\"e02f2aed-cd29-4703-8faf-2dcab9fc668e\")"
   ]
  },
  {
   "cell_type": "code",
   "execution_count": 2,
   "id": "f8cab86a-69ed-482b-bc7e-ce52471bff54",
   "metadata": {},
   "outputs": [],
   "source": [
    "ref = model.get_reference_datasets()[0]\n",
    "cur1 = model.get_current_datasets()[0]"
   ]
  },
  {
   "cell_type": "code",
   "execution_count": 4,
   "id": "2b815e95-7c54-4ef6-8e7e-39aa80aa4d74",
   "metadata": {
    "scrolled": true
   },
   "outputs": [
    {
     "data": {
      "application/vnd.jupyter.widget-view+json": {
       "model_id": "046bb480b4eb486099e3f5b4086b325f",
       "version_major": 2,
       "version_minor": 0
      },
      "text/plain": [
       "VBox(children=(EChartsRawWidget(option={'grid': {'left': 0, 'right': 20, 'bottom': 0, 'top': 40, 'containLabel…"
      ]
     },
     "execution_count": 4,
     "metadata": {},
     "output_type": "execute_result"
    }
   ],
   "source": [
    "from radicalbit_platform_sdk.charts import RadicalbitChart, RbitChartData\n",
    "\n",
    "RadicalbitChart().numerical_feature_chart(data=RbitChartData(\n",
    "    model=model,\n",
    "    reference=ref\n",
    "))\n",
    "\n"
   ]
  },
  {
   "cell_type": "code",
   "execution_count": null,
   "id": "d616f11c-430e-46f8-9b5c-efa8c8e3a227",
   "metadata": {},
   "outputs": [],
   "source": []
  },
  {
   "cell_type": "code",
   "execution_count": null,
   "id": "6112588f-c782-4a15-bc3d-8a1fc0c1250f",
   "metadata": {},
   "outputs": [],
   "source": []
  }
 ],
 "metadata": {
  "kernelspec": {
   "display_name": "radicalbit-platform-sdk-igfudEJC-py3.11",
   "language": "python",
   "name": "radicalbit-platform-sdk-igfudejc-py3.11"
  },
  "language_info": {
   "codemirror_mode": {
    "name": "ipython",
    "version": 3
   },
   "file_extension": ".py",
   "mimetype": "text/x-python",
   "name": "python",
   "nbconvert_exporter": "python",
   "pygments_lexer": "ipython3",
   "version": "3.11.9"
  }
 },
 "nbformat": 4,
 "nbformat_minor": 5
}
