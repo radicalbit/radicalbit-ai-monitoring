{
 "cells": [
  {
   "cell_type": "code",
   "execution_count": 1,
   "id": "cf17c43b-22b9-4d43-83bf-4bd03d068b7e",
   "metadata": {},
   "outputs": [
    {
     "data": {
      "application/vnd.jupyter.widget-view+json": {
       "model_id": "e15b3fe3c91445bea0e14d8b22718ab1",
       "version_major": 2,
       "version_minor": 0
      },
      "text/plain": [
       "EChartsRawWidget(option={'grid': {'left': 0, 'right': 20, 'bottom': 0, 'top': 40, 'containLabel': True}, 'xAxi…"
      ]
     },
     "execution_count": 1,
     "metadata": {},
     "output_type": "execute_result"
    }
   ],
   "source": [
    "from radicalbit_platform_sdk.charts import NumericalBarChartData, Chart\n",
    "\n",
    "Chart().numerical_bar_chart(data=NumericalBarChartData(\n",
    "    title=\"Age\",\n",
    "    bucket_data=[\"19,700\",\"99,400\",\"179,000\",\"259,000\",\"339,000\",\"418,000\",\"498,000\",\"578,000\",\"657,000\",\"737,000\",\"817,000\"],\n",
    "    reference_data=[502,982,896,356,181,44,24,10,3,2]\n",
    "))\n",
    "    "
   ]
  },
  {
   "cell_type": "code",
   "execution_count": 2,
   "id": "d85c083f-2ed3-4049-aeec-effe807fc0bf",
   "metadata": {},
   "outputs": [
    {
     "data": {
      "application/vnd.jupyter.widget-view+json": {
       "model_id": "d1053a4f92d0421db12b616923e4aafd",
       "version_major": 2,
       "version_minor": 0
      },
      "text/plain": [
       "EChartsRawWidget(option={'grid': {'left': 0, 'right': 20, 'bottom': 0, 'top': 40, 'containLabel': True}, 'xAxi…"
      ]
     },
     "execution_count": 2,
     "metadata": {},
     "output_type": "execute_result"
    }
   ],
   "source": [
    "from radicalbit_platform_sdk.charts import NumericalBarChartData, Chart\n",
    "\n",
    "Chart().numerical_bar_chart(data=NumericalBarChartData(\n",
    "    title=\"Age\",\n",
    "    bucket_data=[\"19,700\",\"99,400\",\"179,000\",\"259,000\",\"339,000\",\"418,000\",\"498,000\",\"578,000\",\"657,000\",\"737,000\",\"817,000\"],\n",
    "    reference_data=[502,982,896,356,181,44,24,10,3,2],\n",
    "    current_data=[]\n",
    "))"
   ]
  },
  {
   "cell_type": "code",
   "execution_count": 3,
   "id": "45ed67a9-1c12-4ae2-a066-eafaa9b06749",
   "metadata": {},
   "outputs": [
    {
     "data": {
      "application/vnd.jupyter.widget-view+json": {
       "model_id": "70dd69f4b6a14251839c97a13e7daba9",
       "version_major": 2,
       "version_minor": 0
      },
      "text/plain": [
       "EChartsRawWidget(option={'grid': {'left': 0, 'right': 20, 'bottom': 0, 'top': 40, 'containLabel': True}, 'xAxi…"
      ]
     },
     "execution_count": 3,
     "metadata": {},
     "output_type": "execute_result"
    }
   ],
   "source": [
    "from radicalbit_platform_sdk.charts import NumericalBarChartData, Chart\n",
    "\n",
    "Chart().numerical_bar_chart(data=NumericalBarChartData(\n",
    "    title=\"Age\",\n",
    "    bucket_data=[\"19,700\",\"99,400\",\"179,000\",\"259,000\",\"339,000\",\"418,000\",\"498,000\",\"578,000\",\"657,000\",\"737,000\",\"817,000\"],\n",
    "    reference_data=[502,982,896,356,181,44,24,10,3,2],\n",
    "    current_data=[502,982,896,356,181,44,24,10,3,2]\n",
    "))"
   ]
  },
  {
   "cell_type": "code",
   "execution_count": null,
   "id": "36f0a1fe-37c4-4df9-9980-7ff46e015a32",
   "metadata": {},
   "outputs": [],
   "source": []
  }
 ],
 "metadata": {
  "kernelspec": {
   "display_name": "Python 3 (ipykernel)",
   "language": "python",
   "name": "python3"
  },
  "language_info": {
   "codemirror_mode": {
    "name": "ipython",
    "version": 3
   },
   "file_extension": ".py",
   "mimetype": "text/x-python",
   "name": "python",
   "nbconvert_exporter": "python",
   "pygments_lexer": "ipython3",
   "version": "3.11.9"
  }
 },
 "nbformat": 4,
 "nbformat_minor": 5
}
