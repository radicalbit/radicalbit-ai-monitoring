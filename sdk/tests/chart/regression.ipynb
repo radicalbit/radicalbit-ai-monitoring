{
 "cells": [
  {
   "cell_type": "code",
   "execution_count": 1,
   "id": "40f4bb48-0a9a-4076-ac00-81e4f9c80675",
   "metadata": {},
   "outputs": [
    {
     "data": {
      "application/vnd.jupyter.widget-view+json": {
       "model_id": "3c5acc7c17474d38bc397e5be1ae4acb",
       "version_major": 2,
       "version_minor": 0
      },
      "text/plain": [
       "EChartsRawWidget(option={'grid': {'left': 0, 'right': 20, 'bottom': 0, 'top': 40, 'containLabel': True}, 'xAxi…"
      ]
     },
     "execution_count": 1,
     "metadata": {},
     "output_type": "execute_result"
    }
   ],
   "source": [
    "from radicalbit_platform_sdk.charts.regression import RegressionChart, RegressionDistributionChartData\n",
    "\n",
    "RegressionChart().distribution_chart(data=\n",
    "    RegressionDistributionChartData(\n",
    "        title=\"ground_truth\",\n",
    "        bucket_data=[\"0\",\"2.7\",\"5.4\",\"8.1\",\"10.8\",\"13.5\",\"16.2\",\"18.9\",\"21.6\",\"24.3\",\"27\"],\n",
    "        reference_data=[383,355,367,244,379,331,252,326,331,374]\n",
    "    )\n",
    ")"
   ]
  },
  {
   "cell_type": "code",
   "execution_count": 2,
   "id": "e8f96d82-8f3e-4e47-b282-964352f789b8",
   "metadata": {},
   "outputs": [
    {
     "data": {
      "application/vnd.jupyter.widget-view+json": {
       "model_id": "731a8a221b114cb6b4e1bea6f7d2751d",
       "version_major": 2,
       "version_minor": 0
      },
      "text/plain": [
       "EChartsRawWidget(option={'grid': {'left': 0, 'right': 20, 'bottom': 0, 'top': 40, 'containLabel': True}, 'xAxi…"
      ]
     },
     "execution_count": 2,
     "metadata": {},
     "output_type": "execute_result"
    }
   ],
   "source": [
    "from radicalbit_platform_sdk.charts.regression import RegressionChart, RegressionDistributionChartData\n",
    "\n",
    "RegressionChart().distribution_chart(data=\n",
    "    RegressionDistributionChartData(\n",
    "        title=\"ground_truth\",\n",
    "        bucket_data=[\"0\",\"2.7\",\"5.4\",\"8.1\",\"10.8\",\"13.5\",\"16.2\",\"18.9\",\"21.6\",\"24.3\",\"27\"],\n",
    "        reference_data=[383,355,367,244,379,331,252,326,331,374],\n",
    "        current_data=[383,355,367,244,379,331,252,326,331,374]\n",
    "    )\n",
    ")"
   ]
  },
  {
   "cell_type": "code",
   "execution_count": 1,
   "id": "a5e0914f-434f-4656-9c07-9e85ea2b5704",
   "metadata": {},
   "outputs": [
    {
     "name": "stdout",
     "output_type": "stream",
     "text": [
      "\u001b[1mprediction vs ground_truth\n"
     ]
    },
    {
     "data": {
      "application/vnd.jupyter.widget-view+json": {
       "model_id": "500bff92c4a249e2bd98e00a8c899c67",
       "version_major": 2,
       "version_minor": 0
      },
      "text/plain": [
       "EChartsRawWidget(option={'grid': {'left': 20, 'right': 0, 'bottom': 50, 'top': 24, 'containLabel': True}, 'xAx…"
      ]
     },
     "execution_count": 1,
     "metadata": {},
     "output_type": "execute_result"
    }
   ],
   "source": [
    "from radicalbit_platform_sdk.charts.regression import RegressionPredictedActualChartData, RegressionChart\n",
    "\n",
    "RegressionChart().predicted_actual_chart(data=RegressionPredictedActualChartData(\n",
    "    scatter_data=[[11,11],[2,2],[2,2],[17,17],[27,27],[13,13],[7,7],[18,18],[0,22],[13,13],[18,18],[4,4],[22,22],[13,9],[0,0],[27,27],[24,12],[13,13],[16,16],[16,16],[24,24],[13,13],[19,7],[13,13],[8,8],[3,14],[12,12],[6,6],[6,6],[4,4],[24,24],[5,5],[26,26],[12,12],[18,18],[27,27],[12,3],[11,11],[18,18],[3,3],[1,1],[11,8],[0,0],[27,27],[2,2],[26,26],[11,11],[3,3],[8,8],[11,11],[17,17],[26,26]],\n",
    "    coefficient=0.7942363125434776,\n",
    "    intercept=2.8227418911402906\n",
    "))"
   ]
  },
  {
   "cell_type": "code",
   "execution_count": 2,
   "id": "d3be0c70-9dd1-432a-99fa-020490f212ca",
   "metadata": {},
   "outputs": [
    {
     "name": "stdout",
     "output_type": "stream",
     "text": [
      "\u001b[1mprediction vs ground_truth\n"
     ]
    },
    {
     "data": {
      "application/vnd.jupyter.widget-view+json": {
       "model_id": "22f4445d19fc487284a9c3276ddc0aca",
       "version_major": 2,
       "version_minor": 0
      },
      "text/plain": [
       "EChartsRawWidget(option={'grid': {'left': 20, 'right': 0, 'bottom': 50, 'top': 24, 'containLabel': True}, 'xAx…"
      ]
     },
     "execution_count": 2,
     "metadata": {},
     "output_type": "execute_result"
    }
   ],
   "source": [
    "from radicalbit_platform_sdk.charts.regression import RegressionPredictedActualChartData, RegressionChart\n",
    "\n",
    "RegressionChart().predicted_actual_chart(data=RegressionPredictedActualChartData(\n",
    "    scatter_data=[[11,11],[2,2],[2,2],[17,17],[27,27],[13,13],[7,7],[18,18],[0,22],[13,13],[18,18],[4,4],[22,22],[13,9],[0,0],[27,27],[24,12],[13,13],[16,16],[16,16],[24,24],[13,13],[19,7],[13,13],[8,8],[3,14],[12,12],[6,6],[6,6],[4,4],[24,24],[5,5],[26,26],[12,12],[18,18],[27,27],[12,3],[11,11],[18,18],[3,3],[1,1],[11,8],[0,0],[27,27],[2,2],[26,26],[11,11],[3,3],[8,8],[11,11],[17,17],[26,26]],\n",
    "    coefficient=0.7942363125434776,\n",
    "    intercept=2.8227418911402906,\n",
    "    color=\"#3695d9\"\n",
    "))"
   ]
  },
  {
   "cell_type": "code",
   "execution_count": 1,
   "id": "f08f32fe-960b-4bd6-9386-317fa41e5148",
   "metadata": {},
   "outputs": [
    {
     "data": {
      "application/vnd.jupyter.widget-view+json": {
       "model_id": "e8cf9be9c58e41c7b91782e55a394f4a",
       "version_major": 2,
       "version_minor": 0
      },
      "text/plain": [
       "EChartsRawWidget(option={'grid': {'left': 20, 'right': 0, 'bottom': 50, 'top': 24, 'containLabel': True}, 'xAx…"
      ]
     },
     "execution_count": 1,
     "metadata": {},
     "output_type": "execute_result"
    }
   ],
   "source": [
    "from radicalbit_platform_sdk.charts.regression import RegressionResidualScatterChartData, RegressionChart\n",
    "\n",
    "RegressionChart().residual_scatter_chart(data=RegressionResidualScatterChartData(\n",
    "    scatter_data=[[21,0.004549179691821337],[12,0.004549179691821337],[18,0.004549179691821337],[18,-2.4932570457458496],[13,1.157382845878601],[7,0.004549179691821337],[9,0.004549179691821337],[17,0.004549179691821337],[4,0.004549179691821337],[26,0.004549179691821337],[17,0.004549179691821337],[18,0.004549179691821337],[11,0.004549179691821337]]\n",
    "))"
   ]
  },
  {
   "cell_type": "code",
   "execution_count": 2,
   "id": "a99f3ce1-63de-42a6-8450-1abc2c94a0f5",
   "metadata": {},
   "outputs": [
    {
     "data": {
      "application/vnd.jupyter.widget-view+json": {
       "model_id": "9c628c9ae260468d9cd9c2849fe248d3",
       "version_major": 2,
       "version_minor": 0
      },
      "text/plain": [
       "EChartsRawWidget(option={'grid': {'left': 20, 'right': 0, 'bottom': 50, 'top': 24, 'containLabel': True}, 'xAx…"
      ]
     },
     "execution_count": 2,
     "metadata": {},
     "output_type": "execute_result"
    }
   ],
   "source": [
    "from radicalbit_platform_sdk.charts.regression import RegressionResidualScatterChartData, RegressionChart\n",
    "\n",
    "RegressionChart().residual_scatter_chart(data=RegressionResidualScatterChartData(\n",
    "    scatter_data=[[21,0.004549179691821337],[12,0.004549179691821337],[18,0.004549179691821337],[18,-2.4932570457458496],[13,1.157382845878601],[7,0.004549179691821337],[9,0.004549179691821337],[17,0.004549179691821337],[4,0.004549179691821337],[26,0.004549179691821337],[17,0.004549179691821337],[18,0.004549179691821337],[11,0.004549179691821337]],\n",
    "    color=\"#3695d9\"\n",
    "))"
   ]
  },
  {
   "cell_type": "code",
   "execution_count": null,
   "id": "1776a548-0bcd-42c8-949a-2badaaece702",
   "metadata": {},
   "outputs": [],
   "source": []
  }
 ],
 "metadata": {
  "kernelspec": {
   "display_name": "Python 3 (ipykernel)",
   "language": "python",
   "name": "python3"
  },
  "language_info": {
   "codemirror_mode": {
    "name": "ipython",
    "version": 3
   },
   "file_extension": ".py",
   "mimetype": "text/x-python",
   "name": "python",
   "nbconvert_exporter": "python",
   "pygments_lexer": "ipython3",
   "version": "3.11.9"
  }
 },
 "nbformat": 4,
 "nbformat_minor": 5
}
