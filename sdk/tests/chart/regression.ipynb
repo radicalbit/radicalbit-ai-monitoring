{
 "cells": [
  {
   "cell_type": "code",
   "execution_count": 1,
   "id": "40f4bb48-0a9a-4076-ac00-81e4f9c80675",
   "metadata": {},
   "outputs": [
    {
     "data": {
      "application/vnd.jupyter.widget-view+json": {
       "model_id": "2c24436ea2f844ed95f1293926cf13c3",
       "version_major": 2,
       "version_minor": 0
      },
      "text/plain": [
       "EChartsRawWidget(option={'grid': {'left': 0, 'right': 20, 'bottom': 0, 'top': 40, 'containLabel': True}, 'xAxi…"
      ]
     },
     "execution_count": 1,
     "metadata": {},
     "output_type": "execute_result"
    }
   ],
   "source": [
    "from radicalbit_platform_sdk.charts.regression import RegressionChart, RegressionChartData\n",
    "\n",
    "RegressionChart().distribution_chart(data=\n",
    "    RegressionChartData(\n",
    "        title=\"ground_truth\",\n",
    "        bucket_data=[\"0\",\"2.7\",\"5.4\",\"8.1\",\"10.8\",\"13.5\",\"16.2\",\"18.9\",\"21.6\",\"24.3\",\"27\"],\n",
    "        reference_data=[383,355,367,244,379,331,252,326,331,374]\n",
    "    )\n",
    ")"
   ]
  },
  {
   "cell_type": "code",
   "execution_count": 2,
   "id": "e8f96d82-8f3e-4e47-b282-964352f789b8",
   "metadata": {},
   "outputs": [
    {
     "data": {
      "application/vnd.jupyter.widget-view+json": {
       "model_id": "8b3a2852923a46c3bd9a6a096ac5136b",
       "version_major": 2,
       "version_minor": 0
      },
      "text/plain": [
       "EChartsRawWidget(option={'grid': {'left': 0, 'right': 20, 'bottom': 0, 'top': 40, 'containLabel': True}, 'xAxi…"
      ]
     },
     "execution_count": 2,
     "metadata": {},
     "output_type": "execute_result"
    }
   ],
   "source": [
    "from radicalbit_platform_sdk.charts.regression import RegressionChart, RegressionChartData\n",
    "\n",
    "RegressionChart().distribution_chart(data=\n",
    "    RegressionChartData(\n",
    "        title=\"ground_truth\",\n",
    "        bucket_data=[\"0\",\"2.7\",\"5.4\",\"8.1\",\"10.8\",\"13.5\",\"16.2\",\"18.9\",\"21.6\",\"24.3\",\"27\"],\n",
    "        reference_data=[383,355,367,244,379,331,252,326,331,374],\n",
    "        current_data=[383,355,367,244,379,331,252,326,331,374]\n",
    "    )\n",
    ")"
   ]
  },
  {
   "cell_type": "code",
   "execution_count": null,
   "id": "a5e0914f-434f-4656-9c07-9e85ea2b5704",
   "metadata": {},
   "outputs": [],
   "source": []
  }
 ],
 "metadata": {
  "kernelspec": {
   "display_name": "Python 3 (ipykernel)",
   "language": "python",
   "name": "python3"
  },
  "language_info": {
   "codemirror_mode": {
    "name": "ipython",
    "version": 3
   },
   "file_extension": ".py",
   "mimetype": "text/x-python",
   "name": "python",
   "nbconvert_exporter": "python",
   "pygments_lexer": "ipython3",
   "version": "3.11.9"
  }
 },
 "nbformat": 4,
 "nbformat_minor": 5
}
