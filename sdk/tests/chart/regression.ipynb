{
 "cells": [
  {
   "cell_type": "code",
   "execution_count": 8,
   "id": "40f4bb48-0a9a-4076-ac00-81e4f9c80675",
   "metadata": {},
   "outputs": [
    {
     "data": {
      "application/vnd.jupyter.widget-view+json": {
       "model_id": "5258a045b1624c1f9e3305bfec6fb1af",
       "version_major": 2,
       "version_minor": 0
      },
      "text/plain": [
       "EChartsRawWidget(option={'grid': {'left': 0, 'right': 20, 'bottom': 0, 'top': 40, 'containLabel': True}, 'xAxi…"
      ]
     },
     "execution_count": 8,
     "metadata": {},
     "output_type": "execute_result"
    }
   ],
   "source": [
    "from radicalbit_platform_sdk.charts.regression import RegressionChart, RegressionDistributionChartData\n",
    "\n",
    "RegressionChart().distribution_chart(data=\n",
    "    RegressionDistributionChartData(\n",
    "        title=\"ground_truth\",\n",
    "        bucket_data=[\"0\",\"2.7\",\"5.4\",\"8.1\",\"10.8\",\"13.5\",\"16.2\",\"18.9\",\"21.6\",\"24.3\",\"27\"],\n",
    "        reference_data=[383,355,367,244,379,331,252,326,331,374]\n",
    "    )\n",
    ")"
   ]
  },
  {
   "cell_type": "code",
   "execution_count": 9,
   "id": "e8f96d82-8f3e-4e47-b282-964352f789b8",
   "metadata": {},
   "outputs": [
    {
     "data": {
      "application/vnd.jupyter.widget-view+json": {
       "model_id": "700c4cafec1f4832be39510b65a0afe7",
       "version_major": 2,
       "version_minor": 0
      },
      "text/plain": [
       "EChartsRawWidget(option={'grid': {'left': 0, 'right': 20, 'bottom': 0, 'top': 40, 'containLabel': True}, 'xAxi…"
      ]
     },
     "execution_count": 9,
     "metadata": {},
     "output_type": "execute_result"
    }
   ],
   "source": [
    "from radicalbit_platform_sdk.charts.regression import RegressionChart, RegressionDistributionChartData\n",
    "\n",
    "RegressionChart().distribution_chart(data=\n",
    "    RegressionDistributionChartData(\n",
    "        title=\"ground_truth\",\n",
    "        bucket_data=[\"0\",\"2.7\",\"5.4\",\"8.1\",\"10.8\",\"13.5\",\"16.2\",\"18.9\",\"21.6\",\"24.3\",\"27\"],\n",
    "        reference_data=[383,355,367,244,379,331,252,326,331,374],\n",
    "        current_data=[383,355,367,244,379,331,252,326,331,374]\n",
    "    )\n",
    ")"
   ]
  },
  {
   "cell_type": "code",
   "execution_count": 3,
   "id": "a5e0914f-434f-4656-9c07-9e85ea2b5704",
   "metadata": {},
   "outputs": [
    {
     "data": {
      "text/plain": [
       "'prediction vs ground_truth'"
      ]
     },
     "metadata": {},
     "output_type": "display_data"
    },
    {
     "data": {
      "application/vnd.jupyter.widget-view+json": {
       "model_id": "e47a6ac4589047238ae6627529860c2c",
       "version_major": 2,
       "version_minor": 0
      },
      "text/plain": [
       "EChartsRawWidget(option={'grid': {'left': 20, 'right': 0, 'bottom': 50, 'top': 24, 'containLabel': True}, 'xAx…"
      ]
     },
     "execution_count": 3,
     "metadata": {},
     "output_type": "execute_result"
    }
   ],
   "source": [
    "from radicalbit_platform_sdk.charts.regression import RegressionPredictedActualChartData, RegressionChart\n",
    "\n",
    "RegressionChart().predicted_actual_chart(data=RegressionPredictedActualChartData(\n",
    "    scatter_data=[[11,11],[2,2],[2,2],[17,17],[27,27],[13,13],[7,7],[18,18],[0,22],[13,13],[18,18],[4,4],[22,22],[13,9],[0,0],[27,27],[24,12],[13,13],[16,16],[16,16],[24,24],[13,13],[19,7],[13,13],[8,8],[3,14],[12,12],[6,6],[6,6],[4,4],[24,24],[5,5],[26,26],[12,12],[18,18],[27,27],[12,3],[11,11],[18,18],[3,3],[1,1],[11,8],[0,0],[27,27],[2,2],[26,26],[11,11],[3,3],[8,8],[11,11],[17,17],[26,26]],\n",
    "    coefficient=0.7942363125434776,\n",
    "    intercept=2.8227418911402906\n",
    "))"
   ]
  },
  {
   "cell_type": "code",
   "execution_count": 10,
   "id": "f08f32fe-960b-4bd6-9386-317fa41e5148",
   "metadata": {},
   "outputs": [
    {
     "data": {
      "application/vnd.jupyter.widget-view+json": {
       "model_id": "f5f4db3f51d94b26bdb7af7705928323",
       "version_major": 2,
       "version_minor": 0
      },
      "text/plain": [
       "EChartsRawWidget(option={'grid': {'left': 20, 'right': 0, 'bottom': 50, 'top': 24, 'containLabel': True}, 'xAx…"
      ]
     },
     "execution_count": 10,
     "metadata": {},
     "output_type": "execute_result"
    }
   ],
   "source": [
    "from radicalbit_platform_sdk.charts.regression import RegressionResidualScatterChartData, RegressionChart\n",
    "\n",
    "RegressionChart().residual_scatter_chart(data=RegressionResidualScatterChartData(\n",
    "    scatter_data=[[21,0.004549179691821337],[12,0.004549179691821337],[18,0.004549179691821337],[18,-2.4932570457458496],[13,1.157382845878601],[7,0.004549179691821337],[9,0.004549179691821337],[17,0.004549179691821337],[4,0.004549179691821337],[26,0.004549179691821337],[17,0.004549179691821337],[18,0.004549179691821337],[11,0.004549179691821337]]\n",
    "))"
   ]
  },
  {
   "cell_type": "code",
   "execution_count": 11,
   "id": "a99f3ce1-63de-42a6-8450-1abc2c94a0f5",
   "metadata": {},
   "outputs": [
    {
     "data": {
      "application/vnd.jupyter.widget-view+json": {
       "model_id": "2208d65abcd9472ba443a90931057ed1",
       "version_major": 2,
       "version_minor": 0
      },
      "text/plain": [
       "EChartsRawWidget(option={'grid': {'left': 20, 'right': 0, 'bottom': 50, 'top': 24, 'containLabel': True}, 'xAx…"
      ]
     },
     "execution_count": 11,
     "metadata": {},
     "output_type": "execute_result"
    }
   ],
   "source": [
    "from radicalbit_platform_sdk.charts.regression import RegressionResidualScatterChartData, RegressionChart\n",
    "\n",
    "RegressionChart().residual_scatter_chart(data=RegressionResidualScatterChartData(\n",
    "    scatter_data=[[21,0.004549179691821337],[12,0.004549179691821337],[18,0.004549179691821337],[18,-2.4932570457458496],[13,1.157382845878601],[7,0.004549179691821337],[9,0.004549179691821337],[17,0.004549179691821337],[4,0.004549179691821337],[26,0.004549179691821337],[17,0.004549179691821337],[18,0.004549179691821337],[11,0.004549179691821337]],\n",
    "    color=\"#3695d9\"\n",
    "))"
   ]
  },
  {
   "cell_type": "code",
   "execution_count": 12,
   "id": "1776a548-0bcd-42c8-949a-2badaaece702",
   "metadata": {},
   "outputs": [
    {
     "data": {
      "application/vnd.jupyter.widget-view+json": {
       "model_id": "77938a6405964d2f98eb60576e63d26d",
       "version_major": 2,
       "version_minor": 0
      },
      "text/plain": [
       "EChartsRawWidget(option={'grid': {'left': 0, 'right': 20, 'bottom': 0, 'top': 10, 'containLabel': True}, 'xAxi…"
      ]
     },
     "execution_count": 12,
     "metadata": {},
     "output_type": "execute_result"
    }
   ],
   "source": [
    "from radicalbit_platform_sdk.charts.regression import RegressionChart, RegressionResidualBucketChartData\n",
    "\n",
    "RegressionChart().residual_bucket_chart(data=\n",
    "    RegressionResidualBucketChartData(\n",
    "        bucket_data=[\"-27\",\"-21.7\",\"-16.4\",\"-11.1\",\"-5.8\",\"-0.5\",\"4.8\",\"10.1\",\"15.4\",\"20.7\",\"26\"],\n",
    "        values=[21,36,79,130,121,3099,120,66,53,34]\n",
    "    )\n",
    ")"
   ]
  },
  {
   "cell_type": "code",
   "execution_count": null,
   "id": "3d9bd640-589a-4ea2-9af1-bc10de388a12",
   "metadata": {},
   "outputs": [],
   "source": []
  }
 ],
 "metadata": {
  "kernelspec": {
   "display_name": "Python 3 (ipykernel)",
   "language": "python",
   "name": "python3"
  },
  "language_info": {
   "codemirror_mode": {
    "name": "ipython",
    "version": 3
   },
   "file_extension": ".py",
   "mimetype": "text/x-python",
   "name": "python",
   "nbconvert_exporter": "python",
   "pygments_lexer": "ipython3",
   "version": "3.11.9"
  }
 },
 "nbformat": 4,
 "nbformat_minor": 5
}
