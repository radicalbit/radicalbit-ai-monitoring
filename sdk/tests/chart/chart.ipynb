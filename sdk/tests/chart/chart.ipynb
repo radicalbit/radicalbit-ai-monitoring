{
 "cells": [
  {
   "cell_type": "code",
   "execution_count": 1,
   "id": "f4e9ff8a-6490-4ce7-a01d-fe4d43159f5a",
   "metadata": {},
   "outputs": [
    {
     "data": {
      "application/vnd.jupyter.widget-view+json": {
       "model_id": "f501272b23ae43ee9c38584d95ef7090",
       "version_major": 2,
       "version_minor": 0
      },
      "text/plain": [
       "EChartsRawWidget(option={'grid': {'left': 0, 'right': 20, 'bottom': 0, 'top': 40, 'containLabel': True}, 'xAxi…"
      ]
     },
     "execution_count": 1,
     "metadata": {},
     "output_type": "execute_result"
    }
   ],
   "source": [
    "from radicalbit_platform_sdk.charts import NumericalBarChartData, Chart\n",
    "\n",
    "Chart().numerical_bar_chart(data=NumericalBarChartData(\n",
    "    title=\"Age\",\n",
    "    bucket_data=[\"19,700\",\"99,400\",\"179,000\",\"259,000\",\"339,000\",\"418,000\",\"498,000\",\"578,000\",\"657,000\",\"737,000\",\"817,000\"],\n",
    "    reference_data=[502,982,896,356,181,44,24,10,3,2],\n",
    "    current_data=[]\n",
    "))\n",
    "    "
   ]
  },
  {
   "cell_type": "code",
   "execution_count": 2,
   "id": "3a2a5412-7085-48de-87b1-9b7995d918bc",
   "metadata": {},
   "outputs": [
    {
     "data": {
      "application/vnd.jupyter.widget-view+json": {
       "model_id": "cfd8d40d8b9c43b693420a4159359b57",
       "version_major": 2,
       "version_minor": 0
      },
      "text/plain": [
       "EChartsRawWidget(option={'yAxis': {'type': 'category', 'axisTick': {'show': False}, 'axisLine': {'show': False…"
      ]
     },
     "execution_count": 2,
     "metadata": {},
     "output_type": "execute_result"
    }
   ],
   "source": [
    "from radicalbit_platform_sdk.charts import ConfusionMatrixChartData, Chart\n",
    "\n",
    "Chart().confusion_matrix_chart(data=ConfusionMatrixChartData(axis_label=[\"0\",\"1\"],matrix=[[0,0,281],[1,0,2121],[0,1,448],[1,1,150]]))"
   ]
  },
  {
   "cell_type": "code",
   "execution_count": 3,
   "id": "5865d9fc-8c08-484e-9b2a-5755eced42f7",
   "metadata": {},
   "outputs": [
    {
     "data": {
      "application/vnd.jupyter.widget-view+json": {
       "model_id": "0ce85f6043734a34b85b046301114e79",
       "version_major": 2,
       "version_minor": 0
      },
      "text/plain": [
       "EChartsRawWidget(option={'yAxis': {'type': 'category', 'axisTick': {'show': False}, 'axisLine': {'show': False…"
      ]
     },
     "execution_count": 3,
     "metadata": {},
     "output_type": "execute_result"
    }
   ],
   "source": [
    "from radicalbit_platform_sdk.charts import ConfusionMatrixChartData, Chart\n",
    "\n",
    "Chart().confusion_matrix_chart(data=ConfusionMatrixChartData(axis_label=[\"0\",\"1\"],matrix=[[0,0,281],[1,0,2121],[0,1,448],[1,1,150]],color=['#FFFFFF','#3695d9']))"
   ]
  },
  {
   "cell_type": "code",
   "execution_count": 4,
   "id": "09407640-2a3d-45db-841d-1d21e63ef6a0",
   "metadata": {},
   "outputs": [
    {
     "data": {
      "application/vnd.jupyter.widget-view+json": {
       "model_id": "1a0158e694ee4300af42116172c21daf",
       "version_major": 2,
       "version_minor": 0
      },
      "text/plain": [
       "EChartsRawWidget(option={'yAxis': {'type': 'category', 'axisTick': {'show': False}, 'axisLine': {'show': False…"
      ]
     },
     "execution_count": 4,
     "metadata": {},
     "output_type": "execute_result"
    }
   ],
   "source": [
    "from radicalbit_platform_sdk.charts import ConfusionMatrixChartData, Chart\n",
    "\n",
    "Chart().confusion_matrix_chart(data=ConfusionMatrixChartData(\n",
    "    axis_label=[\"0\",\"1\",\"2\"],\n",
    "    matrix=[[0,0,2],[1,0,4],[2,0,131],[0,1,3],[1,1,115],[2,1,4],[0,2,102],[1,2,3],[2,2,0]],\n",
    "    color=['#FFFFFF','#3695d9']))"
   ]
  },
  {
   "cell_type": "code",
   "execution_count": null,
   "id": "c2ae305c-17b2-4eab-9bcb-370526358d08",
   "metadata": {},
   "outputs": [],
   "source": []
  }
 ],
 "metadata": {
  "kernelspec": {
   "display_name": "Python 3 (ipykernel)",
   "language": "python",
   "name": "python3"
  },
  "language_info": {
   "codemirror_mode": {
    "name": "ipython",
    "version": 3
   },
   "file_extension": ".py",
   "mimetype": "text/x-python",
   "name": "python",
   "nbconvert_exporter": "python",
   "pygments_lexer": "ipython3",
   "version": "3.11.9"
  }
 },
 "nbformat": 4,
 "nbformat_minor": 5
}
