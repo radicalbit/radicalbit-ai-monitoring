{
 "cells": [
  {
   "cell_type": "code",
   "execution_count": 1,
   "id": "49b432f0-1f5c-4a06-be16-57211818e1d2",
   "metadata": {},
   "outputs": [],
   "source": [
    "# Create the Client\n",
    "from radicalbit_platform_sdk.client import Client\n",
    "base_url = \"http://localhost:9000\"\n",
    "client = Client(base_url)\n",
    "model = client.get_model(id=\"e02f2aed-cd29-4703-8faf-2dcab9fc668e\")"
   ]
  },
  {
   "cell_type": "code",
   "execution_count": 2,
   "id": "6b003783-f258-4687-b689-7564a433d2c8",
   "metadata": {},
   "outputs": [],
   "source": [
    "ref = model.get_reference_datasets()[0]\n",
    "cur1 = model.get_current_datasets()[0]"
   ]
  },
  {
   "cell_type": "code",
   "execution_count": 3,
   "id": "695184d1-1d18-46a1-83dc-38dd1daf0559",
   "metadata": {},
   "outputs": [
    {
     "data": {
      "application/vnd.jupyter.widget-view+json": {
       "model_id": "0f59b3c8ba364f6c9975416b7470e09c",
       "version_major": 2,
       "version_minor": 0
      },
      "text/plain": [
       "VBox(children=(EChartsRawWidget(option={'grid': {'left': 0, 'right': 20, 'bottom': 0, 'top': 40, 'containLabel…"
      ]
     },
     "execution_count": 3,
     "metadata": {},
     "output_type": "execute_result"
    }
   ],
   "source": [
    "from radicalbit_platform_sdk.charts import RadicalbitChart, RbitChartData\n",
    "\n",
    "RadicalbitChart().data_quality(data=RbitChartData(\n",
    "    model=model,\n",
    "    reference=ref,\n",
    "    current=cur1\n",
    "))"
   ]
  },
  {
   "cell_type": "code",
   "execution_count": null,
   "id": "788cce87-af03-4ae5-aac0-de0ec6144846",
   "metadata": {},
   "outputs": [],
   "source": []
  }
 ],
 "metadata": {
  "kernelspec": {
   "display_name": "Python 3 (ipykernel)",
   "language": "python",
   "name": "python3"
  },
  "language_info": {
   "codemirror_mode": {
    "name": "ipython",
    "version": 3
   },
   "file_extension": ".py",
   "mimetype": "text/x-python",
   "name": "python",
   "nbconvert_exporter": "python",
   "pygments_lexer": "ipython3",
   "version": "3.11.9"
  }
 },
 "nbformat": 4,
 "nbformat_minor": 5
}
