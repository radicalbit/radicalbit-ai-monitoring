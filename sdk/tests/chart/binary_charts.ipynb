{
 "cells": [
  {
   "cell_type": "code",
   "execution_count": 1,
   "id": "9c508258-8fd0-4b79-9621-debfcb498ef3",
   "metadata": {},
   "outputs": [
    {
     "data": {
      "application/vnd.jupyter.widget-view+json": {
       "model_id": "8bf8620979544b5db95a4cfa88834f51",
       "version_major": 2,
       "version_minor": 0
      },
      "text/plain": [
       "EChartsRawWidget(option={'grid': {'left': 0, 'right': 20, 'bottom': 0, 'top': 40, 'containLabel': True}, 'xAxi…"
      ]
     },
     "execution_count": 1,
     "metadata": {},
     "output_type": "execute_result"
    }
   ],
   "source": [
    "from radicalbit_platform_sdk.charts.binary_classification import BinaryChart, BinaryChartData\n",
    "\n",
    "BinaryChart().distribution_chart(data=\n",
    "    BinaryChartData(\n",
    "        title=\"income 50k\",\n",
    "        y_axis_label=[\"0.0\",\"1.0\"],\n",
    "        reference_data=[\n",
    "            { \"percentage\": 75.7,\"count\": 2271,\"value\": 2271},\n",
    "            { \"percentage\": 24.3,\"count\": 729,\"value\": 729 }\n",
    "        ]\n",
    "    )\n",
    ")"
   ]
  },
  {
   "cell_type": "code",
   "execution_count": 2,
   "id": "0d7cf4a4-89a2-4a83-b50c-1a125c65861f",
   "metadata": {},
   "outputs": [
    {
     "data": {
      "application/vnd.jupyter.widget-view+json": {
       "model_id": "d144e25569334c54ad7bdb0abae4f8a9",
       "version_major": 2,
       "version_minor": 0
      },
      "text/plain": [
       "EChartsRawWidget(option={'grid': {'left': 0, 'right': 20, 'bottom': 0, 'top': 40, 'containLabel': True}, 'xAxi…"
      ]
     },
     "execution_count": 2,
     "metadata": {},
     "output_type": "execute_result"
    }
   ],
   "source": [
    "from radicalbit_platform_sdk.charts.binary_classification import BinaryChart, BinaryChartData\n",
    "\n",
    "BinaryChart().distribution_chart(data=\n",
    "    BinaryChartData(\n",
    "        title=\"income 50k\",\n",
    "        y_axis_label=[\"0.0\",\"1.0\"],\n",
    "        reference_data=[\n",
    "            { \"percentage\": 75.7, \"count\": 2271, \"value\": 2271 },\n",
    "            { \"percentage\": 24.3, \"count\": 729, \"value\": 729 }\n",
    "        ],\n",
    "        current_data=[\n",
    "            { \"percentage\": 75.4, \"count\": 1885, \"value\": 1885 },\n",
    "            { \"percentage\": 24.6, \"count\": 615, \"value\": 615 }\n",
    "        ]\n",
    "    )\n",
    ")                    "
   ]
  },
  {
   "cell_type": "code",
   "execution_count": null,
   "id": "a197fd36-69cf-46f1-b892-a049cf14f6c4",
   "metadata": {},
   "outputs": [],
   "source": []
  }
 ],
 "metadata": {
  "kernelspec": {
   "display_name": "Python 3 (ipykernel)",
   "language": "python",
   "name": "python3"
  },
  "language_info": {
   "codemirror_mode": {
    "name": "ipython",
    "version": 3
   },
   "file_extension": ".py",
   "mimetype": "text/x-python",
   "name": "python",
   "nbconvert_exporter": "python",
   "pygments_lexer": "ipython3",
   "version": "3.11.9"
  }
 },
 "nbformat": 4,
 "nbformat_minor": 5
}
