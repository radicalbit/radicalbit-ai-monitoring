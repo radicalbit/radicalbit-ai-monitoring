{
 "cells": [
  {
   "cell_type": "code",
   "execution_count": 1,
   "id": "9c508258-8fd0-4b79-9621-debfcb498ef3",
   "metadata": {},
   "outputs": [
    {
     "data": {
      "application/vnd.jupyter.widget-view+json": {
       "model_id": "02f7279776234947a1bbb0e2cd900c56",
       "version_major": 2,
       "version_minor": 0
      },
      "text/plain": [
       "EChartsRawWidget(option={'grid': {'left': 0, 'right': 20, 'bottom': 0, 'top': 40, 'containLabel': True}, 'xAxi…"
      ]
     },
     "execution_count": 1,
     "metadata": {},
     "output_type": "execute_result"
    }
   ],
   "source": [
    "from radicalbit_platform_sdk.charts.binary_classification import BinaryChart, BinaryDistributionChartData\n",
    "from radicalbit_platform_sdk.models import ClassMetrics\n",
    "\n",
    "BinaryChart().distribution_chart(data=\n",
    "    BinaryDistributionChartData(\n",
    "        title=\"income 50k\",\n",
    "        reference_data=[\n",
    "            ClassMetrics(name='0.0', count=2271, percentage=75.7), \n",
    "            ClassMetrics(name='1.0', count=729, percentage=24.3)\n",
    "        ]\n",
    "    )\n",
    ")"
   ]
  },
  {
   "cell_type": "code",
   "execution_count": 2,
   "id": "0d7cf4a4-89a2-4a83-b50c-1a125c65861f",
   "metadata": {},
   "outputs": [
    {
     "data": {
      "application/vnd.jupyter.widget-view+json": {
       "model_id": "0b55aafb6d0c4e548e2e706f1711b527",
       "version_major": 2,
       "version_minor": 0
      },
      "text/plain": [
       "EChartsRawWidget(option={'grid': {'left': 0, 'right': 20, 'bottom': 0, 'top': 40, 'containLabel': True}, 'xAxi…"
      ]
     },
     "execution_count": 2,
     "metadata": {},
     "output_type": "execute_result"
    }
   ],
   "source": [
    "from radicalbit_platform_sdk.charts.binary_classification import BinaryChart, BinaryDistributionChartData\n",
    "from radicalbit_platform_sdk.models import ClassMetrics\n",
    "\n",
    "BinaryChart().distribution_chart(data=\n",
    "    BinaryDistributionChartData(\n",
    "        title=\"income 50k\",\n",
    "        reference_data=[\n",
    "            ClassMetrics(name='0.0', count=2271, percentage=75.7), \n",
    "            ClassMetrics(name='1.0', count=729, percentage=24.3)\n",
    "        ],\n",
    "        current_data=[\n",
    "            ClassMetrics(name='0.0', count=1885, percentage=75.4), \n",
    "            ClassMetrics(name='1.0', count=615, percentage=24.6)\n",
    "        ]\n",
    "    )\n",
    ")                    "
   ]
  },
  {
   "cell_type": "code",
   "execution_count": 3,
   "id": "a197fd36-69cf-46f1-b892-a049cf14f6c4",
   "metadata": {},
   "outputs": [
    {
     "data": {
      "application/vnd.jupyter.widget-view+json": {
       "model_id": "feb2d76807dd42ccb63d449121c9c8ea",
       "version_major": 2,
       "version_minor": 0
      },
      "text/plain": [
       "EChartsRawWidget(option={'tooltip': {'trigger': 'axis', 'crosshairs': True, 'axisPointer': {'type': 'cross', '…"
      ]
     },
     "execution_count": 3,
     "metadata": {},
     "output_type": "execute_result"
    }
   ],
   "source": [
    "from radicalbit_platform_sdk.charts.binary_classification import BinaryChart,BinaryLinearChartData\n",
    "\n",
    "BinaryChart().linear_chart(data=\n",
    "    BinaryLinearChartData(\n",
    "        title=\"Accuracy\",\n",
    "        reference_data=[\n",
    "            [ \"2024-03-10 00:00:00\",\"0.789\" ],\n",
    "            [ \"2024-03-10 01:00:00\",\"0.789\" ],\n",
    "            [ \"2024-03-10 02:00:00\",\"0.789\" ],\n",
    "            [ \"2024-03-10 03:00:00\",\"0.789\" ],\n",
    "            [ \"2024-03-10 04:00:00\",\"0.789\" ],\n",
    "            [ \"2024-03-10 05:00:00\",\"0.789\" ],\n",
    "            [ \"2024-03-10 06:00:00\",\"0.789\" ]\n",
    "        ],\n",
    "        current_data=[\n",
    "            [ \"2024-03-10 00:00:00\",\"0.792\" ],\n",
    "            [ \"2024-03-10 01:00:00\",\"0.125\" ],\n",
    "            [ \"2024-03-10 02:00:00\",\"0.792\" ],\n",
    "            [ \"2024-03-10 03:00:00\",\"0.708\" ],\n",
    "            [ \"2024-03-10 04:00:00\",\"1\" ],\n",
    "            [ \"2024-03-10 05:00:00\",\"0\" ],\n",
    "            [ \"2024-03-10 06:00:00\",\"1\" ]\n",
    "        ]\n",
    "    )\n",
    ")        "
   ]
  },
  {
   "cell_type": "code",
   "execution_count": 5,
   "id": "6cdf251f-fc47-47d3-955c-03f78f011e13",
   "metadata": {},
   "outputs": [
    {
     "data": {
      "application/vnd.jupyter.widget-view+json": {
       "model_id": "9015e97deab94edb8e6b20c84c33ebcb",
       "version_major": 2,
       "version_minor": 0
      },
      "text/plain": [
       "EChartsRawWidget(option={'grid': {'left': 0, 'right': 20, 'bottom': 0, 'top': 40, 'containLabel': True}, 'xAxi…"
      ]
     },
     "execution_count": 5,
     "metadata": {},
     "output_type": "execute_result"
    }
   ],
   "source": [
    "from radicalbit_platform_sdk.charts import RadicalbitChart\n",
    "\n",
    "RadicalbitChart().BinaryDistributionChart()"
   ]
  },
  {
   "cell_type": "code",
   "execution_count": null,
   "id": "df05c241-e0f2-4b27-beea-054f8cc8ce8a",
   "metadata": {},
   "outputs": [],
   "source": []
  }
 ],
 "metadata": {
  "kernelspec": {
   "display_name": "Python 3 (ipykernel)",
   "language": "python",
   "name": "python3"
  },
  "language_info": {
   "codemirror_mode": {
    "name": "ipython",
    "version": 3
   },
   "file_extension": ".py",
   "mimetype": "text/x-python",
   "name": "python",
   "nbconvert_exporter": "python",
   "pygments_lexer": "ipython3",
   "version": "3.11.9"
  }
 },
 "nbformat": 4,
 "nbformat_minor": 5
}
