{
 "cells": [
  {
   "cell_type": "code",
   "execution_count": 1,
   "id": "5d415d16-3f98-4c19-9a04-2dff6a1f50ac",
   "metadata": {},
   "outputs": [
    {
     "data": {
      "application/vnd.jupyter.widget-view+json": {
       "model_id": "aa8abbea981645949721ed298e222482",
       "version_major": 2,
       "version_minor": 0
      },
      "text/plain": [
       "EChartsRawWidget(option={'xAxis': {'type': 'category', 'boundaryGap': False, 'data': ['Mon', 'Tue', 'Wed', 'Th…"
      ]
     },
     "execution_count": 1,
     "metadata": {},
     "output_type": "execute_result"
    }
   ],
   "source": [
    "from radicalbit_platform_sdk.charts import Chart,ChartData\n",
    "\n",
    "Chart().placeholder_chart(data=ChartData(\n",
    "        series_data=[820, 932, 901, 934, 1290, 1330, 1320],\n",
    "        x_axis_data=['Mon', 'Tue', 'Wed', 'Thu', 'Fri', 'Sat', 'Sun']\n",
    "    )\n",
    ")"
   ]
  },
  {
   "cell_type": "code",
   "execution_count": 4,
   "id": "f4e9ff8a-6490-4ce7-a01d-fe4d43159f5a",
   "metadata": {},
   "outputs": [
    {
     "data": {
      "application/vnd.jupyter.widget-view+json": {
       "model_id": "fe386cd799e540d29e2e79b7836c7f60",
       "version_major": 2,
       "version_minor": 0
      },
      "text/plain": [
       "EChartsRawWidget(option={'grid': {'left': 0, 'right': 20, 'bottom': 0, 'top': 40, 'containLabel': True}, 'xAxi…"
      ]
     },
     "execution_count": 4,
     "metadata": {},
     "output_type": "execute_result"
    }
   ],
   "source": [
    "from radicalbit_platform_sdk.charts import NumericalBarChartData, Chart\n",
    "\n",
    "Chart().numerical_bar_chart(data=NumericalBarChartData(\n",
    "    title=\"Age\",\n",
    "    bucket_data=[\"19,700\",\"99,400\",\"179,000\",\"259,000\",\"339,000\",\"418,000\",\"498,000\",\"578,000\",\"657,000\",\"737,000\",\"817,000\"],\n",
    "    reference_data=[502,982,896,356,181,44,24,10,3,2],\n",
    "    current_data=[]\n",
    "))\n",
    "    "
   ]
  },
  {
   "cell_type": "code",
   "execution_count": 2,
   "id": "3a2a5412-7085-48de-87b1-9b7995d918bc",
   "metadata": {},
   "outputs": [
    {
     "data": {
      "application/vnd.jupyter.widget-view+json": {
       "model_id": "f332f2a7412f4eeea5570faf4f72150d",
       "version_major": 2,
       "version_minor": 0
      },
      "text/plain": [
       "EChartsRawWidget(option={'yAxis': {'type': 'category', 'axisTick': {'show': False}, 'axisLine': {'show': False…"
      ]
     },
     "execution_count": 2,
     "metadata": {},
     "output_type": "execute_result"
    }
   ],
   "source": [
    "from radicalbit_platform_sdk.charts import ConfusionMatrixChartData, Chart\n",
    "\n",
    "Chart().confusion_matrix_chart(data=ConfusionMatrixChartData(axis_label=[\"0\",\"1\"],matrix=[[0,0,281],[1,0,2121],[0,1,448],[1,1,150]]))"
   ]
  },
  {
   "cell_type": "code",
   "execution_count": 1,
   "id": "5865d9fc-8c08-484e-9b2a-5755eced42f7",
   "metadata": {},
   "outputs": [
    {
     "data": {
      "application/vnd.jupyter.widget-view+json": {
       "model_id": "01703f01ecbf403f8e366c4c401637e9",
       "version_major": 2,
       "version_minor": 0
      },
      "text/plain": [
       "EChartsRawWidget(option={'yAxis': {'type': 'category', 'axisTick': {'show': False}, 'axisLine': {'show': False…"
      ]
     },
     "execution_count": 1,
     "metadata": {},
     "output_type": "execute_result"
    }
   ],
   "source": [
    "from radicalbit_platform_sdk.charts import ConfusionMatrixChartData, Chart\n",
    "\n",
    "Chart().confusion_matrix_chart(data=ConfusionMatrixChartData(axis_label=[\"0\",\"1\"],matrix=[[0,0,281],[1,0,2121],[0,1,448],[1,1,150]],color=['#FFFFFF','#3695d9']))"
   ]
  },
  {
   "cell_type": "code",
   "execution_count": 1,
   "id": "09407640-2a3d-45db-841d-1d21e63ef6a0",
   "metadata": {},
   "outputs": [
    {
     "ename": "AssertionError",
     "evalue": "axis_label count and matrix item count are not compatibile",
     "output_type": "error",
     "traceback": [
      "\u001b[0;31m---------------------------------------------------------------------------\u001b[0m",
      "\u001b[0;31mAssertionError\u001b[0m                            Traceback (most recent call last)",
      "Cell \u001b[0;32mIn[1], line 3\u001b[0m\n\u001b[1;32m      1\u001b[0m \u001b[38;5;28;01mfrom\u001b[39;00m \u001b[38;5;21;01mradicalbit_platform_sdk\u001b[39;00m\u001b[38;5;21;01m.\u001b[39;00m\u001b[38;5;21;01mcharts\u001b[39;00m \u001b[38;5;28;01mimport\u001b[39;00m ConfusionMatrixChartData, Chart\n\u001b[0;32m----> 3\u001b[0m \u001b[43mChart\u001b[49m\u001b[43m(\u001b[49m\u001b[43m)\u001b[49m\u001b[38;5;241;43m.\u001b[39;49m\u001b[43mconfusion_matrix_chart\u001b[49m\u001b[43m(\u001b[49m\u001b[43mdata\u001b[49m\u001b[38;5;241;43m=\u001b[39;49m\u001b[43mConfusionMatrixChartData\u001b[49m\u001b[43m(\u001b[49m\n\u001b[1;32m      4\u001b[0m \u001b[43m    \u001b[49m\u001b[43maxis_label\u001b[49m\u001b[38;5;241;43m=\u001b[39;49m\u001b[43m[\u001b[49m\u001b[38;5;124;43m\"\u001b[39;49m\u001b[38;5;124;43m0\u001b[39;49m\u001b[38;5;124;43m\"\u001b[39;49m\u001b[43m,\u001b[49m\u001b[38;5;124;43m\"\u001b[39;49m\u001b[38;5;124;43m1\u001b[39;49m\u001b[38;5;124;43m\"\u001b[39;49m\u001b[43m]\u001b[49m\u001b[43m,\u001b[49m\n\u001b[1;32m      5\u001b[0m \u001b[43m    \u001b[49m\u001b[43mmatrix\u001b[49m\u001b[38;5;241;43m=\u001b[39;49m\u001b[43m[\u001b[49m\u001b[43m[\u001b[49m\u001b[38;5;241;43m0\u001b[39;49m\u001b[43m,\u001b[49m\u001b[38;5;241;43m0\u001b[39;49m\u001b[43m,\u001b[49m\u001b[38;5;241;43m2\u001b[39;49m\u001b[43m]\u001b[49m\u001b[43m,\u001b[49m\u001b[43m[\u001b[49m\u001b[38;5;241;43m1\u001b[39;49m\u001b[43m,\u001b[49m\u001b[38;5;241;43m0\u001b[39;49m\u001b[43m,\u001b[49m\u001b[38;5;241;43m4\u001b[39;49m\u001b[43m]\u001b[49m\u001b[43m,\u001b[49m\u001b[43m[\u001b[49m\u001b[38;5;241;43m2\u001b[39;49m\u001b[43m,\u001b[49m\u001b[38;5;241;43m0\u001b[39;49m\u001b[43m,\u001b[49m\u001b[38;5;241;43m131\u001b[39;49m\u001b[43m]\u001b[49m\u001b[43m,\u001b[49m\u001b[43m[\u001b[49m\u001b[38;5;241;43m0\u001b[39;49m\u001b[43m,\u001b[49m\u001b[38;5;241;43m1\u001b[39;49m\u001b[43m,\u001b[49m\u001b[38;5;241;43m3\u001b[39;49m\u001b[43m]\u001b[49m\u001b[43m,\u001b[49m\u001b[43m[\u001b[49m\u001b[38;5;241;43m1\u001b[39;49m\u001b[43m,\u001b[49m\u001b[38;5;241;43m1\u001b[39;49m\u001b[43m,\u001b[49m\u001b[38;5;241;43m115\u001b[39;49m\u001b[43m]\u001b[49m\u001b[43m,\u001b[49m\u001b[43m[\u001b[49m\u001b[38;5;241;43m2\u001b[39;49m\u001b[43m,\u001b[49m\u001b[38;5;241;43m1\u001b[39;49m\u001b[43m,\u001b[49m\u001b[38;5;241;43m4\u001b[39;49m\u001b[43m]\u001b[49m\u001b[43m,\u001b[49m\u001b[43m[\u001b[49m\u001b[38;5;241;43m0\u001b[39;49m\u001b[43m,\u001b[49m\u001b[38;5;241;43m2\u001b[39;49m\u001b[43m,\u001b[49m\u001b[38;5;241;43m102\u001b[39;49m\u001b[43m]\u001b[49m\u001b[43m,\u001b[49m\u001b[43m[\u001b[49m\u001b[38;5;241;43m1\u001b[39;49m\u001b[43m,\u001b[49m\u001b[38;5;241;43m2\u001b[39;49m\u001b[43m,\u001b[49m\u001b[38;5;241;43m3\u001b[39;49m\u001b[43m]\u001b[49m\u001b[43m,\u001b[49m\u001b[43m[\u001b[49m\u001b[38;5;241;43m2\u001b[39;49m\u001b[43m,\u001b[49m\u001b[38;5;241;43m2\u001b[39;49m\u001b[43m,\u001b[49m\u001b[38;5;241;43m0\u001b[39;49m\u001b[43m]\u001b[49m\u001b[43m]\u001b[49m\u001b[43m,\u001b[49m\n\u001b[1;32m      6\u001b[0m \u001b[43m    \u001b[49m\u001b[43mcolor\u001b[49m\u001b[38;5;241;43m=\u001b[39;49m\u001b[43m[\u001b[49m\u001b[38;5;124;43m'\u001b[39;49m\u001b[38;5;124;43m#FFFFFF\u001b[39;49m\u001b[38;5;124;43m'\u001b[39;49m\u001b[43m,\u001b[49m\u001b[38;5;124;43m'\u001b[39;49m\u001b[38;5;124;43m#3695d9\u001b[39;49m\u001b[38;5;124;43m'\u001b[39;49m\u001b[43m]\u001b[49m\u001b[43m)\u001b[49m\u001b[43m)\u001b[49m\n",
      "File \u001b[0;32m~/radicalbit/radicalbit-ai-monitoring/sdk/radicalbit_platform_sdk/charts/chart.py:110\u001b[0m, in \u001b[0;36mChart.confusion_matrix_chart\u001b[0;34m(self, data)\u001b[0m\n\u001b[1;32m    109\u001b[0m \u001b[38;5;28;01mdef\u001b[39;00m \u001b[38;5;21mconfusion_matrix_chart\u001b[39m(\u001b[38;5;28mself\u001b[39m, data: ConfusionMatrixChartData) \u001b[38;5;241m-\u001b[39m\u001b[38;5;241m>\u001b[39m EChartsRawWidget:\n\u001b[0;32m--> 110\u001b[0m     \u001b[38;5;28;01massert\u001b[39;00m \u001b[38;5;28mlen\u001b[39m(data\u001b[38;5;241m.\u001b[39mmatrix) \u001b[38;5;241m==\u001b[39m \u001b[38;5;28mlen\u001b[39m(data\u001b[38;5;241m.\u001b[39maxis_label) \u001b[38;5;241m*\u001b[39m \u001b[38;5;28mlen\u001b[39m(data\u001b[38;5;241m.\u001b[39maxis_label) , \u001b[38;5;124m\"\u001b[39m\u001b[38;5;124maxis_label count and matrix item count are not compatibile\u001b[39m\u001b[38;5;124m\"\u001b[39m\n\u001b[1;32m    112\u001b[0m     np_matrix \u001b[38;5;241m=\u001b[39m np\u001b[38;5;241m.\u001b[39mmatrix(data\u001b[38;5;241m.\u001b[39mmatrix)\n\u001b[1;32m    114\u001b[0m     options \u001b[38;5;241m=\u001b[39m {\n\u001b[1;32m    115\u001b[0m         \u001b[38;5;124m\"\u001b[39m\u001b[38;5;124myAxis\u001b[39m\u001b[38;5;124m\"\u001b[39m: {\n\u001b[1;32m    116\u001b[0m             \u001b[38;5;124m\"\u001b[39m\u001b[38;5;124mtype\u001b[39m\u001b[38;5;124m\"\u001b[39m: \u001b[38;5;124m\"\u001b[39m\u001b[38;5;124mcategory\u001b[39m\u001b[38;5;124m\"\u001b[39m,\n\u001b[0;32m   (...)\u001b[0m\n\u001b[1;32m    190\u001b[0m         }\n\u001b[1;32m    191\u001b[0m     }\n",
      "\u001b[0;31mAssertionError\u001b[0m: axis_label count and matrix item count are not compatibile"
     ]
    }
   ],
   "source": [
    "from radicalbit_platform_sdk.charts import ConfusionMatrixChartData, Chart\n",
    "\n",
    "Chart().confusion_matrix_chart(data=ConfusionMatrixChartData(\n",
    "    axis_label=[\"0\",\"1\"],\n",
    "    matrix=[[0,0,2],[1,0,4],[2,0,131],[0,1,3],[1,1,115],[2,1,4],[0,2,102],[1,2,3],[2,2,0]],\n",
    "    color=['#FFFFFF','#3695d9']))"
   ]
  },
  {
   "cell_type": "code",
   "execution_count": null,
   "id": "c2ae305c-17b2-4eab-9bcb-370526358d08",
   "metadata": {},
   "outputs": [],
   "source": []
  }
 ],
 "metadata": {
  "kernelspec": {
   "display_name": "Python 3 (ipykernel)",
   "language": "python",
   "name": "python3"
  },
  "language_info": {
   "codemirror_mode": {
    "name": "ipython",
    "version": 3
   },
   "file_extension": ".py",
   "mimetype": "text/x-python",
   "name": "python",
   "nbconvert_exporter": "python",
   "pygments_lexer": "ipython3",
   "version": "3.11.9"
  }
 },
 "nbformat": 4,
 "nbformat_minor": 5
}
