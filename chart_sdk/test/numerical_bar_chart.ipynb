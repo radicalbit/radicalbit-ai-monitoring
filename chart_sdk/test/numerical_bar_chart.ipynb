{
 "cells": [
  {
   "cell_type": "code",
   "execution_count": 1,
   "id": "cf17c43b-22b9-4d43-83bf-4bd03d068b7e",
   "metadata": {},
   "outputs": [
    {
     "data": {
      "application/vnd.jupyter.widget-view+json": {
       "model_id": "b10bdb9783f04f15826934a7d560b4ef",
       "version_major": 2,
       "version_minor": 0
      },
      "text/plain": [
       "EChartsRawWidget(option={'grid': {'left': 0, 'right': 20, 'bottom': 0, 'top': 10, 'containLabel': True}, 'xAxi…"
      ]
     },
     "execution_count": 1,
     "metadata": {},
     "output_type": "execute_result"
    }
   ],
   "source": [
    "from radicalbit_platform_chart_sdk.charts import NumericalBarChartData, Chart\n",
    "\n",
    "Chart().numerical_bar_chart(data=NumericalBarChartData(\n",
    "    bucket_data=[\"[19,700-99,400) \",\"[99,400-179,000) \",\"[179,000-259,000) \",\"[259,000-339,000) \",\"[339,000-418,000) \",\"[418,000-498,000) \",\"[498,000-578,000) \",\"[578,000-657,000) \",\"[657,000-737,000) \",\"[737,000-817,000] \"],\n",
    "    reference_data=[502,982,896,356,181,44,24,10,3,2],\n",
    "))\n",
    "    "
   ]
  },
  {
   "cell_type": "code",
   "execution_count": 2,
   "id": "d85c083f-2ed3-4049-aeec-effe807fc0bf",
   "metadata": {},
   "outputs": [
    {
     "data": {
      "application/vnd.jupyter.widget-view+json": {
       "model_id": "80a4ca3d166b4063808a4122aec532b9",
       "version_major": 2,
       "version_minor": 0
      },
      "text/plain": [
       "EChartsRawWidget(option={'grid': {'left': 0, 'right': 20, 'bottom': 0, 'top': 10, 'containLabel': True}, 'xAxi…"
      ]
     },
     "execution_count": 2,
     "metadata": {},
     "output_type": "execute_result"
    }
   ],
   "source": [
    "from radicalbit_platform_chart_sdk.charts import NumericalBarChartData, Chart\n",
    "\n",
    "Chart().numerical_bar_chart(data=NumericalBarChartData(\n",
    "    bucket_data=[\"[19,700-99,400) \",\"[99,400-179,000) \",\"[179,000-259,000) \",\"[259,000-339,000) \",\"[339,000-418,000) \",\"[418,000-498,000) \",\"[498,000-578,000) \",\"[578,000-657,000) \",\"[657,000-737,000) \",\"[737,000-817,000] \"],\n",
    "    reference_data=[502,982,896,356,181,44,24,10,3,2],\n",
    "    current_data=[]\n",
    "))"
   ]
  },
  {
   "cell_type": "code",
   "execution_count": 3,
   "id": "45ed67a9-1c12-4ae2-a066-eafaa9b06749",
   "metadata": {},
   "outputs": [
    {
     "data": {
      "application/vnd.jupyter.widget-view+json": {
       "model_id": "a8149dbe179240fdb73d1bf6fbf79f77",
       "version_major": 2,
       "version_minor": 0
      },
      "text/plain": [
       "EChartsRawWidget(option={'grid': {'left': 0, 'right': 20, 'bottom': 0, 'top': 10, 'containLabel': True}, 'xAxi…"
      ]
     },
     "execution_count": 3,
     "metadata": {},
     "output_type": "execute_result"
    }
   ],
   "source": [
    "from radicalbit_platform_chart_sdk.charts import NumericalBarChartData, Chart\n",
    "\n",
    "Chart().numerical_bar_chart(data=NumericalBarChartData(\n",
    "    bucket_data=[\"[19,700-99,400) \",\"[99,400-179,000) \",\"[179,000-259,000) \",\"[259,000-339,000) \",\"[339,000-418,000) \",\"[418,000-498,000) \",\"[498,000-578,000) \",\"[578,000-657,000) \",\"[657,000-737,000) \",\"[737,000-817,000] \"],\n",
    "    reference_data=[502,982,896,356,181,44,24,10,3,2],\n",
    "    current_data=[502,982,896,356,181,44,24,10,3,2]\n",
    "))"
   ]
  },
  {
   "cell_type": "code",
   "execution_count": null,
   "id": "e0e396df-a75e-49b8-8164-544b23fc126a",
   "metadata": {},
   "outputs": [],
   "source": []
  }
 ],
 "metadata": {
  "kernelspec": {
   "display_name": "radicalbit-platform-chart-sdk-ayHfA1Gh-py3.1",
   "language": "python",
   "name": "radicalbit-platform-chart-sdk-ayhfa1gh-py3.1"
  },
  "language_info": {
   "codemirror_mode": {
    "name": "ipython",
    "version": 3
   },
   "file_extension": ".py",
   "mimetype": "text/x-python",
   "name": "python",
   "nbconvert_exporter": "python",
   "pygments_lexer": "ipython3",
   "version": "3.11.9"
  }
 },
 "nbformat": 4,
 "nbformat_minor": 5
}
