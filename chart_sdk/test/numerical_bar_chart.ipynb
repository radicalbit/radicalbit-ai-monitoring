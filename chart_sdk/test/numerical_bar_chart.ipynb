{
 "cells": [
  {
   "cell_type": "code",
   "execution_count": 1,
   "id": "cf17c43b-22b9-4d43-83bf-4bd03d068b7e",
   "metadata": {},
   "outputs": [
    {
     "data": {
      "application/vnd.jupyter.widget-view+json": {
       "model_id": "0965b12e8470415e9b5b9f0ef9cc2b37",
       "version_major": 2,
       "version_minor": 0
      },
      "text/plain": [
       "EChartsRawWidget(option={'grid': {'left': 0, 'right': 20, 'bottom': 0, 'top': 10, 'containLabel': True}, 'xAxi…"
      ]
     },
     "execution_count": 1,
     "metadata": {},
     "output_type": "execute_result"
    }
   ],
   "source": [
    "from radicalbit_platform_chart_sdk.charts import NumericalBarChartData, Chart\n",
    "\n",
    "Chart().numerical_bar_chart(data=NumericalBarChartData(\n",
    "    bucket_data=[\"19,700\",\"99,400\",\"179,000\",\"259,000\",\"339,000\",\"418,000\",\"498,000\",\"578,000\",\"657,000\",\"737,000\",\"817,000\"],\n",
    "    reference_data=[502,982,896,356,181,44,24,10,3,2]\n",
    "))\n",
    "    "
   ]
  },
  {
   "cell_type": "code",
   "execution_count": 2,
   "id": "d85c083f-2ed3-4049-aeec-effe807fc0bf",
   "metadata": {},
   "outputs": [
    {
     "data": {
      "application/vnd.jupyter.widget-view+json": {
       "model_id": "40139774a54f42baa82aa7b0aa70dd02",
       "version_major": 2,
       "version_minor": 0
      },
      "text/plain": [
       "EChartsRawWidget(option={'grid': {'left': 0, 'right': 20, 'bottom': 0, 'top': 10, 'containLabel': True}, 'xAxi…"
      ]
     },
     "execution_count": 2,
     "metadata": {},
     "output_type": "execute_result"
    }
   ],
   "source": [
    "from radicalbit_platform_chart_sdk.charts import NumericalBarChartData, Chart\n",
    "\n",
    "Chart().numerical_bar_chart(data=NumericalBarChartData(\n",
    "    bucket_data=[\"19,700\",\"99,400\",\"179,000\",\"259,000\",\"339,000\",\"418,000\",\"498,000\",\"578,000\",\"657,000\",\"737,000\",\"817,000\"],\n",
    "    reference_data=[502,982,896,356,181,44,24,10,3,2],\n",
    "    current_data=[]\n",
    "))"
   ]
  },
  {
   "cell_type": "code",
   "execution_count": 3,
   "id": "45ed67a9-1c12-4ae2-a066-eafaa9b06749",
   "metadata": {},
   "outputs": [
    {
     "data": {
      "application/vnd.jupyter.widget-view+json": {
       "model_id": "aad926399ac34bd2856c3a43b2ef24b3",
       "version_major": 2,
       "version_minor": 0
      },
      "text/plain": [
       "EChartsRawWidget(option={'grid': {'left': 0, 'right': 20, 'bottom': 0, 'top': 10, 'containLabel': True}, 'xAxi…"
      ]
     },
     "execution_count": 3,
     "metadata": {},
     "output_type": "execute_result"
    }
   ],
   "source": [
    "from radicalbit_platform_chart_sdk.charts import NumericalBarChartData, Chart\n",
    "\n",
    "Chart().numerical_bar_chart(data=NumericalBarChartData(\n",
    "    bucket_data=[\"19,700\",\"99,400\",\"179,000\",\"259,000\",\"339,000\",\"418,000\",\"498,000\",\"578,000\",\"657,000\",\"737,000\",\"817,000\"],\n",
    "    reference_data=[502,982,896,356,181,44,24,10,3,2],\n",
    "    current_data=[502,982,896,356,181,44,24,10,3,2]\n",
    "))"
   ]
  },
  {
   "cell_type": "code",
   "execution_count": null,
   "id": "36f0a1fe-37c4-4df9-9980-7ff46e015a32",
   "metadata": {},
   "outputs": [],
   "source": []
  }
 ],
 "metadata": {
  "kernelspec": {
   "display_name": "radicalbit-platform-chart-sdk-ayHfA1Gh-py3.1",
   "language": "python",
   "name": "radicalbit-platform-chart-sdk-ayhfa1gh-py3.1"
  },
  "language_info": {
   "codemirror_mode": {
    "name": "ipython",
    "version": 3
   },
   "file_extension": ".py",
   "mimetype": "text/x-python",
   "name": "python",
   "nbconvert_exporter": "python",
   "pygments_lexer": "ipython3",
   "version": "3.11.9"
  }
 },
 "nbformat": 4,
 "nbformat_minor": 5
}
