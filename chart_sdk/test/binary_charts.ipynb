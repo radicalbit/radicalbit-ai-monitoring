{
 "cells": [
  {
   "cell_type": "code",
   "execution_count": 4,
   "id": "9c508258-8fd0-4b79-9621-debfcb498ef3",
   "metadata": {},
   "outputs": [
    {
     "data": {
      "application/vnd.jupyter.widget-view+json": {
       "model_id": "5cc7812cc99b41e183c3f2a9840753d4",
       "version_major": 2,
       "version_minor": 0
      },
      "text/plain": [
       "EChartsRawWidget(option={'grid': {'left': 0, 'right': 20, 'bottom': 0, 'top': 10, 'containLabel': True}, 'xAxi…"
      ]
     },
     "execution_count": 4,
     "metadata": {},
     "output_type": "execute_result"
    }
   ],
   "source": [
    "from radicalbit_platform_chart_sdk.charts.binary_classification import BinaryChart, BinaryChartData\n",
    "\n",
    "BinaryChart().distribution_chart(data=\n",
    "    BinaryChartData(\n",
    "        title=\"income 50k\",\n",
    "        reference_data=[\n",
    "            { \"percentage\": 75.7,\"count\": 2271,\"value\": 2271},\n",
    "            { \"percentage\": 24.3,\"count\": 729,\"value\": 729 }\n",
    "        ]\n",
    "    )\n",
    ")"
   ]
  },
  {
   "cell_type": "code",
   "execution_count": 3,
   "id": "0d7cf4a4-89a2-4a83-b50c-1a125c65861f",
   "metadata": {},
   "outputs": [
    {
     "data": {
      "application/vnd.jupyter.widget-view+json": {
       "model_id": "9b739b46ba7c43c5b01cf608f14212b6",
       "version_major": 2,
       "version_minor": 0
      },
      "text/plain": [
       "EChartsRawWidget(option={'grid': {'left': 0, 'right': 20, 'bottom': 0, 'top': 10, 'containLabel': True}, 'xAxi…"
      ]
     },
     "execution_count": 3,
     "metadata": {},
     "output_type": "execute_result"
    }
   ],
   "source": [
    "from radicalbit_platform_chart_sdk.charts.binary_classification import BinaryChart, BinaryChartData\n",
    "\n",
    "BinaryChart().distribution_chart(data=\n",
    "    BinaryChartData(\n",
    "        title=\"income 50k\",\n",
    "        reference_data=[\n",
    "            { \"percentage\": 75.7, \"count\": 2271, \"value\": 2271 },\n",
    "            { \"percentage\": 24.3, \"count\": 729, \"value\": 729 }\n",
    "        ],\n",
    "        current_data=[\n",
    "            { \"percentage\": 75.4, \"count\": 1885, \"value\": 1885 },\n",
    "            { \"percentage\": 24.6, \"count\": 615, \"value\": 615 }\n",
    "        ]\n",
    "    )\n",
    ")                    "
   ]
  },
  {
   "cell_type": "code",
   "execution_count": null,
   "id": "e9cae3ae-79aa-49ab-98f7-b1bc1706fb3b",
   "metadata": {},
   "outputs": [],
   "source": []
  }
 ],
 "metadata": {
  "kernelspec": {
   "display_name": "radicalbit-platform-chart-sdk-ayHfA1Gh-py3.1",
   "language": "python",
   "name": "radicalbit-platform-chart-sdk-ayhfa1gh-py3.1"
  },
  "language_info": {
   "codemirror_mode": {
    "name": "ipython",
    "version": 3
   },
   "file_extension": ".py",
   "mimetype": "text/x-python",
   "name": "python",
   "nbconvert_exporter": "python",
   "pygments_lexer": "ipython3",
   "version": "3.11.9"
  }
 },
 "nbformat": 4,
 "nbformat_minor": 5
}
