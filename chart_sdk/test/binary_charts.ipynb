{
 "cells": [
  {
   "cell_type": "code",
   "execution_count": 2,
   "id": "9c508258-8fd0-4b79-9621-debfcb498ef3",
   "metadata": {},
   "outputs": [
    {
     "data": {
      "application/vnd.jupyter.widget-view+json": {
       "model_id": "8da1a959387c4300a8c5b289d4e48513",
       "version_major": 2,
       "version_minor": 0
      },
      "text/plain": [
       "EChartsRawWidget(option={'title': {'text': 'income 50k', 'textStyle': {'fontSize': 14}}, 'legend': {'right': '…"
      ]
     },
     "execution_count": 2,
     "metadata": {},
     "output_type": "execute_result"
    }
   ],
   "source": [
    "from radicalbit_platform_chart_sdk.charts.binary_classification import BinaryChart, BinaryChartData\n",
    "\n",
    "BinaryChart().distribution_chart(data=\n",
    "    BinaryChartData(\n",
    "        title=\"income 50k\",\n",
    "        y_axis_label=[\"0.0\",\"1.0\"],\n",
    "        reference_data=[\n",
    "            { \"percentage\": 75.7,\"count\": 2271,\"value\": 2271},\n",
    "            { \"percentage\": 24.3,\"count\": 729,\"value\": 729 }\n",
    "        ]\n",
    "    )\n",
    ")"
   ]
  },
  {
   "cell_type": "code",
   "execution_count": 1,
   "id": "0d7cf4a4-89a2-4a83-b50c-1a125c65861f",
   "metadata": {},
   "outputs": [
    {
     "data": {
      "application/vnd.jupyter.widget-view+json": {
       "model_id": "59a01a6f5fc744de904261514ad2ffa2",
       "version_major": 2,
       "version_minor": 0
      },
      "text/plain": [
       "EChartsRawWidget(option={'title': {'text': 'income 50k', 'textStyle': {'fontSize': 14}}, 'legend': {'right': '…"
      ]
     },
     "execution_count": 1,
     "metadata": {},
     "output_type": "execute_result"
    }
   ],
   "source": [
    "from radicalbit_platform_chart_sdk.charts.binary_classification import BinaryChart, BinaryChartData\n",
    "\n",
    "BinaryChart().distribution_chart(data=\n",
    "    BinaryChartData(\n",
    "        title=\"income 50k\",\n",
    "        y_axis_label=[\"0.0\",\"1.0\"],\n",
    "        reference_data=[\n",
    "            { \"percentage\": 75.7, \"count\": 2271, \"value\": 2271 },\n",
    "            { \"percentage\": 24.3, \"count\": 729, \"value\": 729 }\n",
    "        ],\n",
    "        current_data=[\n",
    "            { \"percentage\": 75.4, \"count\": 1885, \"value\": 1885 },\n",
    "            { \"percentage\": 24.6, \"count\": 615, \"value\": 615 }\n",
    "        ]\n",
    "    )\n",
    ")                    "
   ]
  },
  {
   "cell_type": "code",
   "execution_count": null,
   "id": "a197fd36-69cf-46f1-b892-a049cf14f6c4",
   "metadata": {},
   "outputs": [],
   "source": []
  }
 ],
 "metadata": {
  "kernelspec": {
   "display_name": "radicalbit-platform-chart-sdk-ayHfA1Gh-py3.1",
   "language": "python",
   "name": "radicalbit-platform-chart-sdk-ayhfa1gh-py3.1"
  },
  "language_info": {
   "codemirror_mode": {
    "name": "ipython",
    "version": 3
   },
   "file_extension": ".py",
   "mimetype": "text/x-python",
   "name": "python",
   "nbconvert_exporter": "python",
   "pygments_lexer": "ipython3",
   "version": "3.11.9"
  }
 },
 "nbformat": 4,
 "nbformat_minor": 5
}
