{
 "cells": [
  {
   "cell_type": "code",
   "execution_count": 1,
   "id": "9ded8395-69cd-4c5e-82dd-69e95d6b8182",
   "metadata": {},
   "outputs": [
    {
     "name": "stdout",
     "output_type": "stream",
     "text": [
      "[{'percentage': 31.443298969072163, 'count': 305.0, 'value': 305.0}, {'percentage': 31.85567010309278, 'count': 309.0, 'value': 309.0}, {'percentage': 36.70103092783505, 'count': 356.0, 'value': 356.0}]\n"
     ]
    },
    {
     "data": {
      "application/vnd.jupyter.widget-view+json": {
       "model_id": "44db7efed7e14925bb75d99402ba65b7",
       "version_major": 2,
       "version_minor": 0
      },
      "text/plain": [
       "EChartsRawWidget(option={'grid': {'left': 0, 'right': 20, 'bottom': 0, 'top': 25, 'containLabel': True}, 'xAxi…"
      ]
     },
     "execution_count": 1,
     "metadata": {},
     "output_type": "execute_result"
    }
   ],
   "source": [
    "from radicalbit_platform_chart_sdk.charts.multi_classification import MultiClassificationChart, MultiClasssificationChartData\n",
    "\n",
    "MultiClassificationChart().distribution_chart(data=\n",
    "    MultiClasssificationChartData(\n",
    "        title=\"ground_truth\",\n",
    "        reference_data=[\n",
    "            { \"percentage\": 31.443298969072163, \"count\": 305, \"value\": 305 },\n",
    "            { \"percentage\": 31.85567010309278, \"count\": 309, \"value\": 309 },\n",
    "            { \"percentage\": 36.70103092783505, \"count\": 356, \"value\": 356 }\n",
    "        ]\n",
    "    )\n",
    ")"
   ]
  },
  {
   "cell_type": "code",
   "execution_count": 2,
   "id": "c1f952cc-af88-4479-9111-1b3d6a6cc705",
   "metadata": {},
   "outputs": [
    {
     "name": "stdout",
     "output_type": "stream",
     "text": [
      "[{'percentage': 31.443298969072163, 'count': 305.0, 'value': 305.0}, {'percentage': 31.85567010309278, 'count': 309.0, 'value': 309.0}, {'percentage': 36.70103092783505, 'count': 356.0, 'value': 356.0}]\n"
     ]
    },
    {
     "data": {
      "application/vnd.jupyter.widget-view+json": {
       "model_id": "c06949aac4e0468ba2e6f202a8438c10",
       "version_major": 2,
       "version_minor": 0
      },
      "text/plain": [
       "EChartsRawWidget(option={'grid': {'left': 0, 'right': 20, 'bottom': 0, 'top': 25, 'containLabel': True}, 'xAxi…"
      ]
     },
     "execution_count": 2,
     "metadata": {},
     "output_type": "execute_result"
    }
   ],
   "source": [
    "from radicalbit_platform_chart_sdk.charts.multi_classification import MultiClassificationChart, MultiClasssificationChartData\n",
    "\n",
    "MultiClassificationChart().distribution_chart(data=\n",
    "    MultiClasssificationChartData(\n",
    "        title=\"ground_truth\",\n",
    "        reference_data=[\n",
    "            { \"percentage\": 31.443298969072163, \"count\": 305, \"value\": 305 },\n",
    "            { \"percentage\": 31.85567010309278, \"count\": 309, \"value\": 309 },\n",
    "            { \"percentage\": 36.70103092783505, \"count\": 356, \"value\": 356 }\n",
    "        ],\n",
    "        current_data=[\n",
    "            { \"percentage\": 28.846153846153843, \"count\": 105, \"value\": 105 },\n",
    "            { \"percentage\": 33.51648351648351, \"count\": 122, \"value\": 122 },\n",
    "            { \"percentage\": 37.637362637362635, \"count\": 137, \"value\": 137 }\n",
    "        ]\n",
    "    )\n",
    ")"
   ]
  },
  {
   "cell_type": "code",
   "execution_count": null,
   "id": "4064888b-7b71-4581-92db-cb3d142e3213",
   "metadata": {},
   "outputs": [],
   "source": []
  }
 ],
 "metadata": {
  "kernelspec": {
   "display_name": "radicalbit-platform-chart-sdk-ayHfA1Gh-py3.1",
   "language": "python",
   "name": "radicalbit-platform-chart-sdk-ayhfa1gh-py3.1"
  },
  "language_info": {
   "codemirror_mode": {
    "name": "ipython",
    "version": 3
   },
   "file_extension": ".py",
   "mimetype": "text/x-python",
   "name": "python",
   "nbconvert_exporter": "python",
   "pygments_lexer": "ipython3",
   "version": "3.11.9"
  }
 },
 "nbformat": 4,
 "nbformat_minor": 5
}
