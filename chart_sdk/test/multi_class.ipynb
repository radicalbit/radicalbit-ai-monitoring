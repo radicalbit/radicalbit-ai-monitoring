{
 "cells": [
  {
   "cell_type": "code",
   "execution_count": 1,
   "id": "9ded8395-69cd-4c5e-82dd-69e95d6b8182",
   "metadata": {},
   "outputs": [
    {
     "data": {
      "application/vnd.jupyter.widget-view+json": {
       "model_id": "e05ed99312e44d79b2dfc685f46abc96",
       "version_major": 2,
       "version_minor": 0
      },
      "text/plain": [
       "EChartsRawWidget(option={'title': {'text': 'ground_truth', 'textStyle': {'fontSize': 14}}, 'legend': {'right':…"
      ]
     },
     "execution_count": 1,
     "metadata": {},
     "output_type": "execute_result"
    }
   ],
   "source": [
    "from radicalbit_platform_chart_sdk.charts.multi_classification import MultiClassificationChart, MultiClassificationChartData\n",
    "\n",
    "MultiClassificationChart().distribution_chart(data=\n",
    "    MultiClassificationChartData(\n",
    "        title=\"ground_truth\",\n",
    "        x_axis_label= [\"0\",\"1\",\"2\"],\n",
    "        reference_data=[\n",
    "            { \"percentage\": 31.443298969072163, \"count\": 305, \"value\": 305 },\n",
    "            { \"percentage\": 31.85567010309278, \"count\": 309, \"value\": 309 },\n",
    "            { \"percentage\": 36.70103092783505, \"count\": 356, \"value\": 356 }\n",
    "        ]\n",
    "    )\n",
    ")"
   ]
  },
  {
   "cell_type": "code",
   "execution_count": 2,
   "id": "c1f952cc-af88-4479-9111-1b3d6a6cc705",
   "metadata": {},
   "outputs": [
    {
     "data": {
      "application/vnd.jupyter.widget-view+json": {
       "model_id": "f1d87b3734ee414395be9af2526b8176",
       "version_major": 2,
       "version_minor": 0
      },
      "text/plain": [
       "EChartsRawWidget(option={'title': {'text': 'ground_truth', 'textStyle': {'fontSize': 14}}, 'legend': {'right':…"
      ]
     },
     "execution_count": 2,
     "metadata": {},
     "output_type": "execute_result"
    }
   ],
   "source": [
    "from radicalbit_platform_chart_sdk.charts.multi_classification import MultiClassificationChart, MultiClassificationChartData\n",
    "\n",
    "MultiClassificationChart().distribution_chart(data=\n",
    "    MultiClassificationChartData(\n",
    "        title=\"ground_truth\",\n",
    "        x_axis_label= [\"0\",\"1\",\"2\"],\n",
    "        reference_data=[\n",
    "            { \"percentage\": 31.443298969072163, \"count\": 305, \"value\": 305 },\n",
    "            { \"percentage\": 31.85567010309278, \"count\": 309, \"value\": 309 },\n",
    "            { \"percentage\": 36.70103092783505, \"count\": 356, \"value\": 356 }\n",
    "        ],\n",
    "        current_data=[\n",
    "            { \"percentage\": 28.846153846153843, \"count\": 105, \"value\": 105 },\n",
    "            { \"percentage\": 33.51648351648351, \"count\": 122, \"value\": 122 },\n",
    "            { \"percentage\": 37.637362637362635, \"count\": 137, \"value\": 137 }\n",
    "        ]\n",
    "    )\n",
    ")"
   ]
  },
  {
   "cell_type": "code",
   "execution_count": null,
   "id": "4064888b-7b71-4581-92db-cb3d142e3213",
   "metadata": {},
   "outputs": [],
   "source": []
  }
 ],
 "metadata": {
  "kernelspec": {
   "display_name": "radicalbit-platform-chart-sdk-ayHfA1Gh-py3.1",
   "language": "python",
   "name": "radicalbit-platform-chart-sdk-ayhfa1gh-py3.1"
  },
  "language_info": {
   "codemirror_mode": {
    "name": "ipython",
    "version": 3
   },
   "file_extension": ".py",
   "mimetype": "text/x-python",
   "name": "python",
   "nbconvert_exporter": "python",
   "pygments_lexer": "ipython3",
   "version": "3.11.9"
  }
 },
 "nbformat": 4,
 "nbformat_minor": 5
}
