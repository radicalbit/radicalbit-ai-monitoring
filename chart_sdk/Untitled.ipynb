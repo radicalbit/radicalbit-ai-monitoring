{
 "cells": [
  {
   "cell_type": "code",
   "execution_count": null,
   "id": "5d415d16-3f98-4c19-9a04-2dff6a1f50ac",
   "metadata": {},
   "outputs": [
    {
     "data": {
      "application/vnd.jupyter.widget-view+json": {
       "model_id": "dcc70b04e7524a9ca0060b57242b43f6",
       "version_major": 2,
       "version_minor": 0
      },
      "text/plain": [
       "EChartsRawWidget(option={'xAxis': {'type': 'category', 'boundaryGap': False, 'data': ['Mon', 'Tue', 'Wed', 'Th…"
      ]
     },
     "execution_count": 2,
     "metadata": {},
     "output_type": "execute_result"
    }
   ],
   "source": [
    "from radicalbit_platform_chart_sdk.charts import Chart,ChartData\n",
    "\n",
    "\n",
    "Chart().placeholder_chart(data=ChartData(\n",
    "        series_data=[820, 932, 901, 934, 1290, 1330, 1320],\n",
    "        x_axis_data=['Mon', 'Tue', 'Wed', 'Thu', 'Fri', 'Sat', 'Sun']\n",
    "    )\n",
    ")\n",
    "\n"
   ]
  },
  {
   "cell_type": "code",
   "execution_count": null,
   "id": "f4e9ff8a-6490-4ce7-a01d-fe4d43159f5a",
   "metadata": {},
   "outputs": [],
   "source": []
  }
 ],
 "metadata": {
  "kernelspec": {
   "display_name": "Python 3",
   "language": "python",
   "name": "python3"
  },
  "language_info": {
   "codemirror_mode": {
    "name": "ipython",
    "version": 3
   },
   "file_extension": ".py",
   "mimetype": "text/x-python",
   "name": "python",
   "nbconvert_exporter": "python",
   "pygments_lexer": "ipython3",
   "version": "3.11.9"
  }
 },
 "nbformat": 4,
 "nbformat_minor": 5
}
