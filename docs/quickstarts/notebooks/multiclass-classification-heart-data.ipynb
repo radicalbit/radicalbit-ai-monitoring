{
 "cells": [
  {
   "cell_type": "markdown",
   "id": "29c98ad0-443d-4485-9faf-51d694ed738e",
   "metadata": {},
   "source": [
    "<left> <img src=\"https://radicalbit.ai/wp-content/uploads/2024/02/radicalbit-logo-bk.png\" width=\"400\" /> </left>\n",
    "\n",
    "\n",
    "## Radicalbit Quickstart: Monitor a Multiclass Classification Model\n",
    "\n",
    "### Introduction\n",
    "This guide provides instructions on how to monitor a ML solution with the Radicalbit OS Platform, through the Python SDK (https://pypi.org/project/radicalbit-platform-sdk/).\n",
    "\n"
   ]
  },
  {
   "cell_type": "code",
   "execution_count": 1,
   "id": "0ff00b73-60fa-4ae7-ae05-70db2df6500f",
   "metadata": {},
   "outputs": [],
   "source": [
    "from radicalbit_platform_sdk.client import Client\n",
    "from radicalbit_platform_sdk.models import (\n",
    "    AwsCredentials,\n",
    "    CreateModel,\n",
    "    DataType,\n",
    "    ModelType,\n",
    "    ColumnDefinition,\n",
    "    OutputType,\n",
    "    Granularity,\n",
    ")\n",
    "\n",
    "from datetime import datetime \n",
    "import pandas as pd\n"
   ]
  },
  {
   "cell_type": "markdown",
   "id": "eb470b72-2648-4b3e-a0a2-508890cccfba",
   "metadata": {},
   "source": [
    "### Create the Client\n",
    "In order to communicate with the platform, you need to create the client and indicate the URL where the UI will be available.\n",
    "Remember that before you need to launch the platform following the instructions in the README.md (https://github.com/radicalbit/radicalbit-ai-monitoring/blob/main/README.md)."
   ]
  },
  {
   "cell_type": "code",
   "execution_count": 2,
   "id": "e0495380-a117-41d3-b7eb-0be168a63965",
   "metadata": {},
   "outputs": [],
   "source": [
    "# Create the Client\n",
    "base_url = \"http://localhost:9000\"\n",
    "client = Client(base_url)\n"
   ]
  },
  {
   "cell_type": "markdown",
   "id": "e02ea774-e7ef-4b74-a4b9-7c55e9e2c0ac",
   "metadata": {},
   "source": [
    "### The reference dataset\n",
    "The reference dataset is the name we use to indicate the batch that contains the information we desire to have constantly (or we expect to have) over time. It could be the training set or a chunck of production data where the model has had good performances.\n",
    "\n",
    "To use the radicalbit-ai-monitoring platform, you need first to prepare your reference data, which should include the following information:\n",
    "\n",
    "- **Variables**: The list of features used by the model as well as other information like metadata produced by the system\n",
    "- **Outputs**: The fields returned by the model after the inference. Usually, they are probabilities, a predicted class or numbers.\n",
    "- **Target**: the ground truth used to validate predictions and evaluate the model quality\n",
    "- **Timestamp**: The timestamp field used to aggregate data over selected windows.\n",
    "\n",
    "In this example we will use a dataset built to classify three different classes of heart diseases.\n",
    "\n",
    "\n",
    "\n",
    "> **_Dataset license:_**  Janosi,Andras, Steinbrunn,William, Pfisterer,Matthias, and Detrano,Robert. (1988). Heart Disease. UCI Machine Learning Repository. https://doi.org/10.24432/C52P4X. Adapted by Radicalbit.\n"
   ]
  },
  {
   "cell_type": "code",
   "execution_count": 7,
   "id": "d9a03d01-12de-4cdb-9e2b-c87cbd907191",
   "metadata": {},
   "outputs": [
    {
     "data": {
      "text/html": [
       "<div>\n",
       "<style scoped>\n",
       "    .dataframe tbody tr th:only-of-type {\n",
       "        vertical-align: middle;\n",
       "    }\n",
       "\n",
       "    .dataframe tbody tr th {\n",
       "        vertical-align: top;\n",
       "    }\n",
       "\n",
       "    .dataframe thead th {\n",
       "        text-align: right;\n",
       "    }\n",
       "</style>\n",
       "<table border=\"1\" class=\"dataframe\">\n",
       "  <thead>\n",
       "    <tr style=\"text-align: right;\">\n",
       "      <th></th>\n",
       "      <th>age</th>\n",
       "      <th>sex</th>\n",
       "      <th>cp</th>\n",
       "      <th>trestbps</th>\n",
       "      <th>chol</th>\n",
       "      <th>fbs</th>\n",
       "      <th>restecg</th>\n",
       "      <th>thalach</th>\n",
       "      <th>exang</th>\n",
       "      <th>oldpeak</th>\n",
       "      <th>slope</th>\n",
       "      <th>ca</th>\n",
       "      <th>thal</th>\n",
       "      <th>ground_truth</th>\n",
       "      <th>prediction</th>\n",
       "      <th>prediction_proba</th>\n",
       "      <th>pred_id</th>\n",
       "      <th>timestamp</th>\n",
       "    </tr>\n",
       "  </thead>\n",
       "  <tbody>\n",
       "    <tr>\n",
       "      <th>0</th>\n",
       "      <td>57</td>\n",
       "      <td>0</td>\n",
       "      <td>4</td>\n",
       "      <td>120</td>\n",
       "      <td>354</td>\n",
       "      <td>0</td>\n",
       "      <td>0</td>\n",
       "      <td>163</td>\n",
       "      <td>1</td>\n",
       "      <td>0.6</td>\n",
       "      <td>1</td>\n",
       "      <td>0.0</td>\n",
       "      <td>3.0</td>\n",
       "      <td>0</td>\n",
       "      <td>0</td>\n",
       "      <td>0.855876</td>\n",
       "      <td>848dafa8-4f0d-4be2-b343-812333ebe865</td>\n",
       "      <td>2024-01-09 21:10:00</td>\n",
       "    </tr>\n",
       "    <tr>\n",
       "      <th>1</th>\n",
       "      <td>51</td>\n",
       "      <td>0</td>\n",
       "      <td>3</td>\n",
       "      <td>140</td>\n",
       "      <td>308</td>\n",
       "      <td>0</td>\n",
       "      <td>2</td>\n",
       "      <td>142</td>\n",
       "      <td>0</td>\n",
       "      <td>1.5</td>\n",
       "      <td>1</td>\n",
       "      <td>1.0</td>\n",
       "      <td>3.0</td>\n",
       "      <td>0</td>\n",
       "      <td>0</td>\n",
       "      <td>0.748994</td>\n",
       "      <td>f293492c-48b5-4b60-ad09-04ce7014a7b5</td>\n",
       "      <td>2024-01-09 21:30:00</td>\n",
       "    </tr>\n",
       "    <tr>\n",
       "      <th>2</th>\n",
       "      <td>51</td>\n",
       "      <td>1</td>\n",
       "      <td>3</td>\n",
       "      <td>125</td>\n",
       "      <td>245</td>\n",
       "      <td>1</td>\n",
       "      <td>2</td>\n",
       "      <td>166</td>\n",
       "      <td>0</td>\n",
       "      <td>2.4</td>\n",
       "      <td>2</td>\n",
       "      <td>0.0</td>\n",
       "      <td>3.0</td>\n",
       "      <td>2</td>\n",
       "      <td>2</td>\n",
       "      <td>0.864210</td>\n",
       "      <td>3ada12d6-35dd-438a-9d5b-84009e96e9f7</td>\n",
       "      <td>2024-01-09 23:10:00</td>\n",
       "    </tr>\n",
       "  </tbody>\n",
       "</table>\n",
       "</div>"
      ],
      "text/plain": [
       "   age  sex  cp  trestbps  chol  fbs  restecg  thalach  exang  oldpeak  slope  \\\n",
       "0   57    0   4       120   354    0        0      163      1      0.6      1   \n",
       "1   51    0   3       140   308    0        2      142      0      1.5      1   \n",
       "2   51    1   3       125   245    1        2      166      0      2.4      2   \n",
       "\n",
       "    ca  thal  ground_truth  prediction  prediction_proba  \\\n",
       "0  0.0   3.0             0           0          0.855876   \n",
       "1  1.0   3.0             0           0          0.748994   \n",
       "2  0.0   3.0             2           2          0.864210   \n",
       "\n",
       "                                pred_id            timestamp  \n",
       "0  848dafa8-4f0d-4be2-b343-812333ebe865  2024-01-09 21:10:00  \n",
       "1  f293492c-48b5-4b60-ad09-04ce7014a7b5  2024-01-09 21:30:00  \n",
       "2  3ada12d6-35dd-438a-9d5b-84009e96e9f7  2024-01-09 23:10:00  "
      ]
     },
     "execution_count": 7,
     "metadata": {},
     "output_type": "execute_result"
    }
   ],
   "source": [
    "reference_path = \"../data/multiclass-classification/3_classes_reference.csv\"\n",
    "reference = pd.read_csv(reference_path)\n",
    "reference.head(3)\n"
   ]
  },
  {
   "cell_type": "markdown",
   "id": "04f8089f-4546-4d25-a991-aeacb707b5ea",
   "metadata": {},
   "source": [
    "### Create the Model\n",
    "The next step requires the Model creation.\n",
    "Here, you have to specify the following information:\n",
    "\n",
    "- **name:** The name of the model\n",
    "- **model_type:** The type of the model\n",
    "- **data_type:** It explains the data type used by the model\n",
    "- **granularity:** The window used to calculate aggregated metrics with the current data\n",
    "- **features:** A list column representing the features set\n",
    "- **outputs:** An OutputType definition to explain the output of the model\n",
    "- **target:** The column used to represent the model's target\n",
    "- **timestamp:** The column used to store the when prediction was done\n",
    "- **frameworks:** An optional field to describe the frameworks used by the model\n",
    "- **algorithm:** An optional field to explain the algorithm used by the model"
   ]
  },
  {
   "cell_type": "code",
   "execution_count": 8,
   "id": "4ec09e32-054e-48f2-a2bc-4aba75537db5",
   "metadata": {},
   "outputs": [],
   "source": [
    "# Create the Model\n",
    "model = CreateModel(\n",
    "    name=f\"Model-{str(datetime.now()).replace(' ', '-').replace(':', '-').split('.')[0]}\",\n",
    "    modelType=ModelType.MULTI_CLASS,\n",
    "    dataType=DataType.TABULAR,\n",
    "    granularity=Granularity.DAY,\n",
    "    description=\"This is a model to classify between different heart disease types.\",\n",
    "    features=[\n",
    "        ColumnDefinition(name=\"age\", type=\"int\"),\n",
    "        ColumnDefinition(name=\"sex\", type=\"string\"),\n",
    "        ColumnDefinition(name=\"cp\", type=\"string\"),\n",
    "        ColumnDefinition(name=\"trestbps\", type=\"int\"),\n",
    "        ColumnDefinition(name=\"chol\", type=\"int\"),\n",
    "        ColumnDefinition(name=\"fbs\", type=\"string\"),\n",
    "        ColumnDefinition(name=\"restecg\", type=\"string\"),\n",
    "        ColumnDefinition(name=\"thalach\", type=\"int\"),\n",
    "        ColumnDefinition(name=\"exang\", type=\"string\"),\n",
    "        ColumnDefinition(name=\"oldpeak\", type=\"int\"),\n",
    "        ColumnDefinition(name=\"slope\", type=\"string\"),\n",
    "        ColumnDefinition(name=\"ca\", type=\"string\"),\n",
    "        ColumnDefinition(name=\"thal\", type=\"string\")\n",
    "    ],\n",
    "    outputs=OutputType(\n",
    "        prediction=ColumnDefinition(name=\"prediction\", type=\"int\"),\n",
    "        output=[\n",
    "            ColumnDefinition(name=\"prediction_proba\", type=\"float\"),\n",
    "            ColumnDefinition(name=\"prediction\", type=\"int\"),\n",
    "            ColumnDefinition(name=\"pred_id\", type=\"string\")\n",
    "        ],\n",
    "    ),\n",
    "    target=ColumnDefinition(name=\"ground_truth\", type=\"int\"),\n",
    "    timestamp=ColumnDefinition(name=\"timestamp\", type=\"datetime\"),\n",
    ")\n",
    "\n",
    "model = client.create_model(model)\n"
   ]
  },
  {
   "cell_type": "code",
   "execution_count": 9,
   "id": "7e6327ee-562a-40b7-a9c4-3304b192deda",
   "metadata": {},
   "outputs": [
    {
     "name": "stdout",
     "output_type": "stream",
     "text": [
      "Model-2024-07-09-09-52-32\n",
      "2d244420-c59f-4b60-883d-5586ea709795\n",
      "DataType.TABULAR\n",
      "This is a model to classify between different heart disease types.\n"
     ]
    }
   ],
   "source": [
    "print(model.name())\n",
    "print(model.uuid())\n",
    "print(model.data_type())\n",
    "print(model.description())\n"
   ]
  },
  {
   "cell_type": "markdown",
   "id": "cd57a6be-119c-4e97-b863-034b7f53200a",
   "metadata": {},
   "source": [
    "After this action, go to the platform to see:\n",
    "\n",
    " - In the **Overview** section, you will see the generated schema of Variables and Outputs"
   ]
  },
  {
   "cell_type": "markdown",
   "id": "08da11f2-e555-43b4-82f1-1ee33ee1b4c3",
   "metadata": {},
   "source": [
    "### Load the reference dataset\n",
    "Once the model has been created, you are ready to upload your reference dataset into the platform. All you need is to run the following code, in which you have to specify the path of your file and set up your AWS credentials as indicated here. \n",
    "In this case, we use Minio as a substitute for a real AWS. \n",
    "\n"
   ]
  },
  {
   "cell_type": "code",
   "execution_count": 10,
   "id": "3fa0df21-923b-44ea-8345-2c94af726fda",
   "metadata": {
    "scrolled": true
   },
   "outputs": [],
   "source": [
    "# load the reference dataset\n",
    "ref = model.load_reference_dataset(\n",
    "    file_name=reference_path,\n",
    "    bucket=\"test-bucket\",\n",
    "    aws_credentials=AwsCredentials(\n",
    "        access_key_id=\"minio\",\n",
    "       secret_access_key=\"minio123\",\n",
    "       default_region=\"us-east-1\",\n",
    "        endpoint_url=\"http://localhost:9090\"\n",
    "    )\n",
    ")\n"
   ]
  },
  {
   "cell_type": "markdown",
   "id": "ffd660b9-70ba-4fc1-a35d-aa8e53b6c946",
   "metadata": {},
   "source": [
    "After this action, go to the platform to see:\n",
    "\n",
    " - In the **Overview/Summary** section, you will see a summary of your data (missing values, number of rows or columuns and other)y\n",
    "- in the **Reference** section you will see information about Data Quality and Model Quality"
   ]
  },
  {
   "cell_type": "markdown",
   "id": "bf9a510b-adec-4f5a-9230-0f868b394294",
   "metadata": {},
   "source": [
    "### Load the current dataset\n",
    "The last step regards the current data uploading. The current dataset is the name we use to indicate the batch that contains fresh information, for example, the most recent production data, predictions or ground truths. We expect that it has the same characteristics (statistical properties) as the reference, which indicates that the model has the performance we expect and there is no drift in the data.\n",
    "As you can see, the code is pretty similar to the reference one. "
   ]
  },
  {
   "cell_type": "code",
   "execution_count": 11,
   "id": "64bd0970-55bf-4ef9-8a64-e22ee3fe2221",
   "metadata": {},
   "outputs": [],
   "source": [
    "current1_path = \"../data/multiclass-classification/3_classes_current1.csv\"\n",
    "\n",
    "# load the current dataset\n",
    "cur1 = model.load_current_dataset(\n",
    "    file_name=current1_path,\n",
    "    correlation_id_column=\"pred_id\",\n",
    "    bucket=\"test-bucket\",\n",
    "    aws_credentials=AwsCredentials(\n",
    "        access_key_id=\"minio\",\n",
    "       secret_access_key=\"minio123\",\n",
    "       default_region=\"us-east-1\",\n",
    "        endpoint_url=\"http://localhost:9090\"\n",
    "    )\n",
    ")\n"
   ]
  },
  {
   "cell_type": "markdown",
   "id": "be702f09-fb0f-4bb2-8fd2-e7b437ee0155",
   "metadata": {},
   "source": [
    "After this action, go to the platform to see:\n",
    "\n",
    " - in the **Current** section you will see information about Data Quality and Model Quality compared to the Reference information\n",
    " - in the **Current/Import** section you will see and browse your uploaded current data"
   ]
  },
  {
   "cell_type": "code",
   "execution_count": null,
   "id": "16dfe9b0-5f08-4a99-a337-d3009477dc4d",
   "metadata": {},
   "outputs": [],
   "source": []
  }
 ],
 "metadata": {
  "kernelspec": {
   "display_name": "radicalbit-platform-sdk-examples-py3.12",
   "language": "python",
   "name": "radicalbit-platform-sdk-examples-py3.12"
  },
  "language_info": {
   "codemirror_mode": {
    "name": "ipython",
    "version": 3
   },
   "file_extension": ".py",
   "mimetype": "text/x-python",
   "name": "python",
   "nbconvert_exporter": "python",
   "pygments_lexer": "ipython3",
   "version": "3.12.4"
  }
 },
 "nbformat": 4,
 "nbformat_minor": 5
}
